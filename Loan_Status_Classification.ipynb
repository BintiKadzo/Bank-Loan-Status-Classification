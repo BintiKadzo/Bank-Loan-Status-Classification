{
  "cells": [
    {
      "cell_type": "markdown",
      "metadata": {
        "id": "Q7bYl8b_exsL"
      },
      "source": [
        "# LOAN STATUS CLASSIFICATION"
      ]
    },
    {
      "cell_type": "markdown",
      "metadata": {
        "id": "dnT6fVplgVRc"
      },
      "source": [
        "## 1. Defining the Question"
      ]
    },
    {
      "cell_type": "markdown",
      "metadata": {
        "id": "8i7C9qE-gaxJ"
      },
      "source": [
        "### a) Specifying the Question"
      ]
    },
    {
      "cell_type": "markdown",
      "metadata": {
        "id": "ouM4IzgViuca"
      },
      "source": [
        "We intend to build a classification model that assesses certain specifics of the client's information for example the client’s current income, credit score, the purpose of the loan with the help of (specific) certain Machine learning algorithms to classify the data into either a good loan application or a bad loan application. This in turn helps the bank predict which loan applications to grant. We will therefore build several models and select the one that works best."
      ]
    },
    {
      "cell_type": "markdown",
      "metadata": {
        "id": "jqDt9hYIg6zl"
      },
      "source": [
        "### b) Defining the Metric for Success"
      ]
    },
    {
      "cell_type": "markdown",
      "metadata": {
        "id": "wTRtklDAjMzR"
      },
      "source": [
        "Our study will be considered successful if we are able to meet the below objectives.\n",
        "\n",
        "**Main Objective**\n",
        "\n",
        "To find the groups of people applying for loans in banks at an individual level by building an unsupervised clustering model. \n",
        "\n",
        "**Specific Objectives**\n",
        "\n",
        "i.)  To determine the characteristics responsible for customer loan classification through feature selection.\n",
        "ii.) To determine the maximum loan limit for certain clients based on these features.\n",
        "iii.) To check for anomalies in the number of open accounts by an individual.\n",
        "iv.) To make a prediction on whether a client is likely to pay off their loan or not. \n",
        "v.) To determine the most common purpose for loan application.\n"
      ]
    },
    {
      "cell_type": "markdown",
      "metadata": {
        "id": "o_74krsRg9qc"
      },
      "source": [
        "### c) Understanding the contex"
      ]
    },
    {
      "cell_type": "markdown",
      "metadata": {
        "id": "6bXgDlT2iixU"
      },
      "source": [
        "Loan classification, risk management, and provisioning processes are closely intertwined in a bank's operations. Loan pricing, the frequency and intensity of review and analysis, the rigor of monitoring, and the tolerance for loan losses (which should be precisely proportional to the risk rating grade) are all determined by the characteristics of the various risk rating classes. They are  associated with the amount of risk indicated by a loan's assigned risk rating grade), and the amount of risk indicated by the amount of risk to absorb unforeseen losses, regulatory capital is essential. When loan classification systems are combined with management's ability to recognize negative trends, there is an improved decision making process through portfolio management and early reporting techniques.\n",
        "\n",
        "A loan classification system is an important component of a bank's credit risk assessment and valuation process, as it classifies loans and groups of loans with comparable credit risk characteristics into risk categories. Underwriting and approval, monitoring and managing credit quality, early identification of adverse trends and potentially problem loans, loan loss provisioning, management reporting, and the determination of regulatory capital requirements are all areas where a loan classification system can be useful. Loan classification systems are recognized by both accounting frameworks and Basel II/III regulatory capital frameworks as suitable instruments for accurately assessing credit risk and establishing groupings of loans for collective evaluation for loan loss calculation."
      ]
    },
    {
      "cell_type": "markdown",
      "metadata": {
        "id": "7vr0p5L2hEY4"
      },
      "source": [
        "### d). Recording the Experimental Design"
      ]
    },
    {
      "cell_type": "markdown",
      "metadata": {
        "id": "LdizgVpFhKx6"
      },
      "source": [
        "### e) Data Relevance"
      ]
    },
    {
      "cell_type": "markdown",
      "metadata": {
        "id": "vgSUtZmOjrOJ"
      },
      "source": [
        "We shall be using the datasets below:\n",
        "\n",
        "i. Credit test dataset ( https://www.kaggle.com/code/sazack/loan-status-classification/data?select=credit_test.csv )\n",
        "\n",
        "ii. Credit train dataset ( https://www.kaggle.com/code/sazack/loan-status-classification/data?select=credit_train.csv )"
      ]
    },
    {
      "cell_type": "markdown",
      "metadata": {
        "id": "yphjeywhhZjR"
      },
      "source": [
        "## 2. Reading the Data"
      ]
    },
    {
      "cell_type": "code",
      "execution_count": 201,
      "metadata": {},
      "outputs": [],
      "source": [
        "# let's import the libraries we need\n",
        "import pandas as pd\n",
        "import numpy as np\n",
        "import matplotlib.pyplot as plt\n",
        "import seaborn as sns\n",
        "\n",
        "# let's ignore warnings\n",
        "import warnings\n",
        "warnings.filterwarnings('ignore')"
      ]
    },
    {
      "cell_type": "code",
      "execution_count": 202,
      "metadata": {},
      "outputs": [],
      "source": [
        "# import load_data.py to read data from file\n",
        "\n",
        "import load_data\n",
        "from load_data import Data"
      ]
    },
    {
      "cell_type": "code",
      "execution_count": 203,
      "metadata": {},
      "outputs": [],
      "source": [
        "# let's create an object of class Data\n",
        "loan_train = Data('credit_train.csv')\n",
        "loan_test = Data('credit_test.csv')"
      ]
    },
    {
      "cell_type": "markdown",
      "metadata": {},
      "source": [
        "### Checking the Data"
      ]
    },
    {
      "cell_type": "code",
      "execution_count": 204,
      "metadata": {},
      "outputs": [
        {
          "name": "stdout",
          "output_type": "stream",
          "text": [
            "Loading the data...\n",
            "==================================================\n",
            "Top part of the data...\n",
            "                                Loan ID                           Customer ID  \\\n",
            "0  14dd8831-6af5-400b-83ec-68e61888a048  981165ec-3274-42f5-a3b4-d104041a9ca9   \n",
            "1  4771cc26-131a-45db-b5aa-537ea4ba5342  2de017a3-2e01-49cb-a581-08169e83be29   \n",
            "2  4eed4e6a-aa2f-4c91-8651-ce984ee8fb26  5efb2b2b-bf11-4dfd-a572-3761a2694725   \n",
            "3  77598f7b-32e7-4e3b-a6e5-06ba0d98fe8a  e777faab-98ae-45af-9a86-7ce5b33b1011   \n",
            "4  d4062e70-befa-4995-8643-a0de73938182  81536ad9-5ccf-4eb8-befb-47a4d608658e   \n",
            "\n",
            "  Loan Status  Current Loan Amount        Term  Credit Score  Annual Income  \\\n",
            "0  Fully Paid             445412.0  Short Term         709.0      1167493.0   \n",
            "1  Fully Paid             262328.0  Short Term           NaN            NaN   \n",
            "2  Fully Paid           99999999.0  Short Term         741.0      2231892.0   \n",
            "3  Fully Paid             347666.0   Long Term         721.0       806949.0   \n",
            "4  Fully Paid             176220.0  Short Term           NaN            NaN   \n",
            "\n",
            "  Years in current job Home Ownership             Purpose  Monthly Debt  \\\n",
            "0              8 years  Home Mortgage   Home Improvements       5214.74   \n",
            "1            10+ years  Home Mortgage  Debt Consolidation      33295.98   \n",
            "2              8 years       Own Home  Debt Consolidation      29200.53   \n",
            "3              3 years       Own Home  Debt Consolidation       8741.90   \n",
            "4              5 years           Rent  Debt Consolidation      20639.70   \n",
            "\n",
            "   Years of Credit History  Months since last delinquent  \\\n",
            "0                     17.2                           NaN   \n",
            "1                     21.1                           8.0   \n",
            "2                     14.9                          29.0   \n",
            "3                     12.0                           NaN   \n",
            "4                      6.1                           NaN   \n",
            "\n",
            "   Number of Open Accounts  Number of Credit Problems  Current Credit Balance  \\\n",
            "0                      6.0                        1.0                228190.0   \n",
            "1                     35.0                        0.0                229976.0   \n",
            "2                     18.0                        1.0                297996.0   \n",
            "3                      9.0                        0.0                256329.0   \n",
            "4                     15.0                        0.0                253460.0   \n",
            "\n",
            "   Maximum Open Credit  Bankruptcies  Tax Liens  \n",
            "0             416746.0           1.0        0.0  \n",
            "1             850784.0           0.0        0.0  \n",
            "2             750090.0           0.0        0.0  \n",
            "3             386958.0           0.0        0.0  \n",
            "4             427174.0           0.0        0.0  \n",
            "==================================================\n",
            "Bottom part of the data...\n",
            "       Loan ID Customer ID Loan Status  Current Loan Amount Term  \\\n",
            "100509     NaN         NaN         NaN                  NaN  NaN   \n",
            "100510     NaN         NaN         NaN                  NaN  NaN   \n",
            "100511     NaN         NaN         NaN                  NaN  NaN   \n",
            "100512     NaN         NaN         NaN                  NaN  NaN   \n",
            "100513     NaN         NaN         NaN                  NaN  NaN   \n",
            "\n",
            "        Credit Score  Annual Income Years in current job Home Ownership  \\\n",
            "100509           NaN            NaN                  NaN            NaN   \n",
            "100510           NaN            NaN                  NaN            NaN   \n",
            "100511           NaN            NaN                  NaN            NaN   \n",
            "100512           NaN            NaN                  NaN            NaN   \n",
            "100513           NaN            NaN                  NaN            NaN   \n",
            "\n",
            "       Purpose  Monthly Debt  Years of Credit History  \\\n",
            "100509     NaN           NaN                      NaN   \n",
            "100510     NaN           NaN                      NaN   \n",
            "100511     NaN           NaN                      NaN   \n",
            "100512     NaN           NaN                      NaN   \n",
            "100513     NaN           NaN                      NaN   \n",
            "\n",
            "        Months since last delinquent  Number of Open Accounts  \\\n",
            "100509                           NaN                      NaN   \n",
            "100510                           NaN                      NaN   \n",
            "100511                           NaN                      NaN   \n",
            "100512                           NaN                      NaN   \n",
            "100513                           NaN                      NaN   \n",
            "\n",
            "        Number of Credit Problems  Current Credit Balance  \\\n",
            "100509                        NaN                     NaN   \n",
            "100510                        NaN                     NaN   \n",
            "100511                        NaN                     NaN   \n",
            "100512                        NaN                     NaN   \n",
            "100513                        NaN                     NaN   \n",
            "\n",
            "        Maximum Open Credit  Bankruptcies  Tax Liens  \n",
            "100509                  NaN           NaN        NaN  \n",
            "100510                  NaN           NaN        NaN  \n",
            "100511                  NaN           NaN        NaN  \n",
            "100512                  NaN           NaN        NaN  \n",
            "100513                  NaN           NaN        NaN  \n",
            "==================================================\n",
            "Shape of the data...\n",
            "The dataset has 100514 rows and 19 columns\n",
            "==================================================\n",
            "What about the data...\n",
            "<class 'pandas.core.frame.DataFrame'>\n",
            "RangeIndex: 100514 entries, 0 to 100513\n",
            "Data columns (total 19 columns):\n",
            " #   Column                        Non-Null Count   Dtype  \n",
            "---  ------                        --------------   -----  \n",
            " 0   Loan ID                       100000 non-null  object \n",
            " 1   Customer ID                   100000 non-null  object \n",
            " 2   Loan Status                   100000 non-null  object \n",
            " 3   Current Loan Amount           100000 non-null  float64\n",
            " 4   Term                          100000 non-null  object \n",
            " 5   Credit Score                  80846 non-null   float64\n",
            " 6   Annual Income                 80846 non-null   float64\n",
            " 7   Years in current job          95778 non-null   object \n",
            " 8   Home Ownership                100000 non-null  object \n",
            " 9   Purpose                       100000 non-null  object \n",
            " 10  Monthly Debt                  100000 non-null  float64\n",
            " 11  Years of Credit History       100000 non-null  float64\n",
            " 12  Months since last delinquent  46859 non-null   float64\n",
            " 13  Number of Open Accounts       100000 non-null  float64\n",
            " 14  Number of Credit Problems     100000 non-null  float64\n",
            " 15  Current Credit Balance        100000 non-null  float64\n",
            " 16  Maximum Open Credit           99998 non-null   float64\n",
            " 17  Bankruptcies                  99796 non-null   float64\n",
            " 18  Tax Liens                     99990 non-null   float64\n",
            "dtypes: float64(12), object(7)\n",
            "memory usage: 14.6+ MB\n",
            "None\n",
            "==================================================\n",
            "Column datatypes...\n",
            "Loan ID                          object\n",
            "Customer ID                      object\n",
            "Loan Status                      object\n",
            "Current Loan Amount             float64\n",
            "Term                             object\n",
            "Credit Score                    float64\n",
            "Annual Income                   float64\n",
            "Years in current job             object\n",
            "Home Ownership                   object\n",
            "Purpose                          object\n",
            "Monthly Debt                    float64\n",
            "Years of Credit History         float64\n",
            "Months since last delinquent    float64\n",
            "Number of Open Accounts         float64\n",
            "Number of Credit Problems       float64\n",
            "Current Credit Balance          float64\n",
            "Maximum Open Credit             float64\n",
            "Bankruptcies                    float64\n",
            "Tax Liens                       float64\n",
            "dtype: object\n"
          ]
        }
      ],
      "source": [
        "# lets check our data using print_results function in the load_data module\n",
        "loan_train.print_results()"
      ]
    },
    {
      "cell_type": "code",
      "execution_count": 206,
      "metadata": {},
      "outputs": [
        {
          "name": "stdout",
          "output_type": "stream",
          "text": [
            "Loading the data...\n",
            "==================================================\n",
            "Top part of the data...\n",
            "                                Loan ID                           Customer ID  \\\n",
            "0  f738779f-c726-40dc-92cf-689d73af533d  ded0b3c3-6bf4-4091-8726-47039f2c1b90   \n",
            "1  6dcc0947-164d-476c-a1de-3ae7283dde0a  1630e6e3-34e3-461a-8fda-09297d3140c8   \n",
            "2  f7744d01-894b-49c3-8777-fc6431a2cff1  2c60938b-ad2b-4702-804d-eeca43949c52   \n",
            "3  83721ffb-b99a-4a0f-aea5-ef472a138b41  12116614-2f3c-4d16-ad34-d92883718806   \n",
            "4  08f3789f-5714-4b10-929d-e1527ab5e5a3  39888105-fd5f-4023-860a-30a3e6f5ccb7   \n",
            "\n",
            "   Current Loan Amount        Term  Credit Score  Annual Income  \\\n",
            "0             611314.0  Short Term         747.0      2074116.0   \n",
            "1             266662.0  Short Term         734.0      1919190.0   \n",
            "2             153494.0  Short Term         709.0       871112.0   \n",
            "3             176242.0  Short Term         727.0       780083.0   \n",
            "4             321992.0  Short Term         744.0      1761148.0   \n",
            "\n",
            "  Years in current job Home Ownership             Purpose  Monthly Debt  \\\n",
            "0            10+ years  Home Mortgage  Debt Consolidation      42000.83   \n",
            "1            10+ years  Home Mortgage  Debt Consolidation      36624.40   \n",
            "2              2 years           Rent  Debt Consolidation       8391.73   \n",
            "3            10+ years           Rent  Debt Consolidation      16771.87   \n",
            "4            10+ years  Home Mortgage  Debt Consolidation      39478.77   \n",
            "\n",
            "   Years of Credit History  Months since last delinquent  \\\n",
            "0                     21.8                           NaN   \n",
            "1                     19.4                           NaN   \n",
            "2                     12.5                          10.0   \n",
            "3                     16.5                          27.0   \n",
            "4                     26.0                          44.0   \n",
            "\n",
            "   Number of Open Accounts  Number of Credit Problems  Current Credit Balance  \\\n",
            "0                      9.0                        0.0                621908.0   \n",
            "1                     11.0                        0.0                679573.0   \n",
            "2                     10.0                        0.0                 38532.0   \n",
            "3                     16.0                        1.0                156940.0   \n",
            "4                     14.0                        0.0                359765.0   \n",
            "\n",
            "   Maximum Open Credit  Bankruptcies  Tax Liens  \n",
            "0            1058970.0           0.0        0.0  \n",
            "1             904442.0           0.0        0.0  \n",
            "2             388036.0           0.0        0.0  \n",
            "3             531322.0           1.0        0.0  \n",
            "4             468072.0           0.0        0.0  \n",
            "==================================================\n",
            "Bottom part of the data...\n",
            "      Loan ID Customer ID  Current Loan Amount Term  Credit Score  \\\n",
            "10348     NaN         NaN                  NaN  NaN           NaN   \n",
            "10349     NaN         NaN                  NaN  NaN           NaN   \n",
            "10350     NaN         NaN                  NaN  NaN           NaN   \n",
            "10351     NaN         NaN                  NaN  NaN           NaN   \n",
            "10352     NaN         NaN                  NaN  NaN           NaN   \n",
            "\n",
            "       Annual Income Years in current job Home Ownership Purpose  \\\n",
            "10348            NaN                  NaN            NaN     NaN   \n",
            "10349            NaN                  NaN            NaN     NaN   \n",
            "10350            NaN                  NaN            NaN     NaN   \n",
            "10351            NaN                  NaN            NaN     NaN   \n",
            "10352            NaN                  NaN            NaN     NaN   \n",
            "\n",
            "       Monthly Debt  Years of Credit History  Months since last delinquent  \\\n",
            "10348           NaN                      NaN                           NaN   \n",
            "10349           NaN                      NaN                           NaN   \n",
            "10350           NaN                      NaN                           NaN   \n",
            "10351           NaN                      NaN                           NaN   \n",
            "10352           NaN                      NaN                           NaN   \n",
            "\n",
            "       Number of Open Accounts  Number of Credit Problems  \\\n",
            "10348                      NaN                        NaN   \n",
            "10349                      NaN                        NaN   \n",
            "10350                      NaN                        NaN   \n",
            "10351                      NaN                        NaN   \n",
            "10352                      NaN                        NaN   \n",
            "\n",
            "       Current Credit Balance  Maximum Open Credit  Bankruptcies  Tax Liens  \n",
            "10348                     NaN                  NaN           NaN        NaN  \n",
            "10349                     NaN                  NaN           NaN        NaN  \n",
            "10350                     NaN                  NaN           NaN        NaN  \n",
            "10351                     NaN                  NaN           NaN        NaN  \n",
            "10352                     NaN                  NaN           NaN        NaN  \n",
            "==================================================\n",
            "Shape of the data...\n",
            "The dataset has 10353 rows and 18 columns\n",
            "==================================================\n",
            "What about the data...\n",
            "<class 'pandas.core.frame.DataFrame'>\n",
            "RangeIndex: 10353 entries, 0 to 10352\n",
            "Data columns (total 18 columns):\n",
            " #   Column                        Non-Null Count  Dtype  \n",
            "---  ------                        --------------  -----  \n",
            " 0   Loan ID                       10000 non-null  object \n",
            " 1   Customer ID                   10000 non-null  object \n",
            " 2   Current Loan Amount           10000 non-null  float64\n",
            " 3   Term                          10000 non-null  object \n",
            " 4   Credit Score                  8019 non-null   float64\n",
            " 5   Annual Income                 8019 non-null   float64\n",
            " 6   Years in current job          9573 non-null   object \n",
            " 7   Home Ownership                10000 non-null  object \n",
            " 8   Purpose                       10000 non-null  object \n",
            " 9   Monthly Debt                  10000 non-null  float64\n",
            " 10  Years of Credit History       10000 non-null  float64\n",
            " 11  Months since last delinquent  4694 non-null   float64\n",
            " 12  Number of Open Accounts       10000 non-null  float64\n",
            " 13  Number of Credit Problems     10000 non-null  float64\n",
            " 14  Current Credit Balance        10000 non-null  float64\n",
            " 15  Maximum Open Credit           10000 non-null  float64\n",
            " 16  Bankruptcies                  9978 non-null   float64\n",
            " 17  Tax Liens                     9999 non-null   float64\n",
            "dtypes: float64(12), object(6)\n",
            "memory usage: 1.4+ MB\n",
            "None\n",
            "==================================================\n",
            "Column datatypes...\n",
            "Loan ID                          object\n",
            "Customer ID                      object\n",
            "Current Loan Amount             float64\n",
            "Term                             object\n",
            "Credit Score                    float64\n",
            "Annual Income                   float64\n",
            "Years in current job             object\n",
            "Home Ownership                   object\n",
            "Purpose                          object\n",
            "Monthly Debt                    float64\n",
            "Years of Credit History         float64\n",
            "Months since last delinquent    float64\n",
            "Number of Open Accounts         float64\n",
            "Number of Credit Problems       float64\n",
            "Current Credit Balance          float64\n",
            "Maximum Open Credit             float64\n",
            "Bankruptcies                    float64\n",
            "Tax Liens                       float64\n",
            "dtype: object\n"
          ]
        }
      ],
      "source": [
        "# print results for loan_test object\n",
        "loan_test.print_results()"
      ]
    },
    {
      "cell_type": "markdown",
      "metadata": {
        "id": "08LxaFbogZ0S"
      },
      "source": [
        "## 3. External Data Validation\n"
      ]
    },
    {
      "cell_type": "markdown",
      "metadata": {
        "id": "CUcZW_EKgh83"
      },
      "source": [
        "\n",
        "The data was provided by the bank about the brand and was based on a previous related banking data, there is no need for external validation."
      ]
    },
    {
      "cell_type": "markdown",
      "metadata": {
        "id": "0sBio87Wgvrw"
      },
      "source": [
        "## 4. Data Preparation"
      ]
    },
    {
      "cell_type": "markdown",
      "metadata": {
        "id": "abj6kZ69g4v3"
      },
      "source": [
        "### a) Uniformity"
      ]
    },
    {
      "cell_type": "code",
      "execution_count": 207,
      "metadata": {},
      "outputs": [
        {
          "data": {
            "text/plain": [
              "Index(['Loan ID', 'Customer ID', 'Loan Status', 'Current Loan Amount', 'Term',\n",
              "       'Credit Score', 'Annual Income', 'Years in current job',\n",
              "       'Home Ownership', 'Purpose', 'Monthly Debt', 'Years of Credit History',\n",
              "       'Months since last delinquent', 'Number of Open Accounts',\n",
              "       'Number of Credit Problems', 'Current Credit Balance',\n",
              "       'Maximum Open Credit', 'Bankruptcies', 'Tax Liens'],\n",
              "      dtype='object')"
            ]
          },
          "execution_count": 207,
          "metadata": {},
          "output_type": "execute_result"
        }
      ],
      "source": [
        "# let's check the naming of the columns\n",
        "loan_train.data.columns"
      ]
    },
    {
      "cell_type": "code",
      "execution_count": 208,
      "metadata": {},
      "outputs": [],
      "source": [
        "# let's replace the white spaces in the column names with underscore\n",
        "loan_train.data.columns = [col.replace(' ', '_') for col in loan_train.data.columns]\n",
        "loan_test.data.columns = [col.replace(' ', '_') for col in loan_test.data.columns]"
      ]
    },
    {
      "cell_type": "code",
      "execution_count": 209,
      "metadata": {},
      "outputs": [
        {
          "data": {
            "text/plain": [
              "Index(['Loan_ID', 'Customer_ID', 'Loan_Status', 'Current_Loan_Amount', 'Term',\n",
              "       'Credit_Score', 'Annual_Income', 'Years_in_current_job',\n",
              "       'Home_Ownership', 'Purpose', 'Monthly_Debt', 'Years_of_Credit_History',\n",
              "       'Months_since_last_delinquent', 'Number_of_Open_Accounts',\n",
              "       'Number_of_Credit_Problems', 'Current_Credit_Balance',\n",
              "       'Maximum_Open_Credit', 'Bankruptcies', 'Tax_Liens'],\n",
              "      dtype='object')"
            ]
          },
          "execution_count": 209,
          "metadata": {},
          "output_type": "execute_result"
        }
      ],
      "source": [
        "# let's check the naming of the columns again\n",
        "loan_train.data.columns"
      ]
    },
    {
      "cell_type": "markdown",
      "metadata": {},
      "source": [
        "* The data is already in a uniform format."
      ]
    },
    {
      "cell_type": "markdown",
      "metadata": {
        "id": "VQbN8DDGicLp"
      },
      "source": [
        "### b) Completeness"
      ]
    },
    {
      "cell_type": "code",
      "execution_count": 210,
      "metadata": {},
      "outputs": [
        {
          "data": {
            "text/html": [
              "<div>\n",
              "<style scoped>\n",
              "    .dataframe tbody tr th:only-of-type {\n",
              "        vertical-align: middle;\n",
              "    }\n",
              "\n",
              "    .dataframe tbody tr th {\n",
              "        vertical-align: top;\n",
              "    }\n",
              "\n",
              "    .dataframe thead th {\n",
              "        text-align: right;\n",
              "    }\n",
              "</style>\n",
              "<table border=\"1\" class=\"dataframe\">\n",
              "  <thead>\n",
              "    <tr style=\"text-align: right;\">\n",
              "      <th></th>\n",
              "      <th>Missing_Values</th>\n",
              "      <th>Percentage</th>\n",
              "    </tr>\n",
              "  </thead>\n",
              "  <tbody>\n",
              "    <tr>\n",
              "      <th>Months_since_last_delinquent</th>\n",
              "      <td>53655</td>\n",
              "      <td>53.380624</td>\n",
              "    </tr>\n",
              "    <tr>\n",
              "      <th>Credit_Score</th>\n",
              "      <td>19668</td>\n",
              "      <td>19.567423</td>\n",
              "    </tr>\n",
              "    <tr>\n",
              "      <th>Annual_Income</th>\n",
              "      <td>19668</td>\n",
              "      <td>19.567423</td>\n",
              "    </tr>\n",
              "    <tr>\n",
              "      <th>Years_in_current_job</th>\n",
              "      <td>4736</td>\n",
              "      <td>4.711781</td>\n",
              "    </tr>\n",
              "    <tr>\n",
              "      <th>Bankruptcies</th>\n",
              "      <td>718</td>\n",
              "      <td>0.714328</td>\n",
              "    </tr>\n",
              "    <tr>\n",
              "      <th>Tax_Liens</th>\n",
              "      <td>524</td>\n",
              "      <td>0.521320</td>\n",
              "    </tr>\n",
              "    <tr>\n",
              "      <th>Maximum_Open_Credit</th>\n",
              "      <td>516</td>\n",
              "      <td>0.513361</td>\n",
              "    </tr>\n",
              "    <tr>\n",
              "      <th>Years_of_Credit_History</th>\n",
              "      <td>514</td>\n",
              "      <td>0.511372</td>\n",
              "    </tr>\n",
              "    <tr>\n",
              "      <th>Current_Credit_Balance</th>\n",
              "      <td>514</td>\n",
              "      <td>0.511372</td>\n",
              "    </tr>\n",
              "    <tr>\n",
              "      <th>Number_of_Credit_Problems</th>\n",
              "      <td>514</td>\n",
              "      <td>0.511372</td>\n",
              "    </tr>\n",
              "    <tr>\n",
              "      <th>Number_of_Open_Accounts</th>\n",
              "      <td>514</td>\n",
              "      <td>0.511372</td>\n",
              "    </tr>\n",
              "    <tr>\n",
              "      <th>Loan_ID</th>\n",
              "      <td>514</td>\n",
              "      <td>0.511372</td>\n",
              "    </tr>\n",
              "    <tr>\n",
              "      <th>Monthly_Debt</th>\n",
              "      <td>514</td>\n",
              "      <td>0.511372</td>\n",
              "    </tr>\n",
              "    <tr>\n",
              "      <th>Customer_ID</th>\n",
              "      <td>514</td>\n",
              "      <td>0.511372</td>\n",
              "    </tr>\n",
              "    <tr>\n",
              "      <th>Home_Ownership</th>\n",
              "      <td>514</td>\n",
              "      <td>0.511372</td>\n",
              "    </tr>\n",
              "    <tr>\n",
              "      <th>Term</th>\n",
              "      <td>514</td>\n",
              "      <td>0.511372</td>\n",
              "    </tr>\n",
              "    <tr>\n",
              "      <th>Current_Loan_Amount</th>\n",
              "      <td>514</td>\n",
              "      <td>0.511372</td>\n",
              "    </tr>\n",
              "    <tr>\n",
              "      <th>Loan_Status</th>\n",
              "      <td>514</td>\n",
              "      <td>0.511372</td>\n",
              "    </tr>\n",
              "    <tr>\n",
              "      <th>Purpose</th>\n",
              "      <td>514</td>\n",
              "      <td>0.511372</td>\n",
              "    </tr>\n",
              "  </tbody>\n",
              "</table>\n",
              "</div>"
            ],
            "text/plain": [
              "                              Missing_Values  Percentage\n",
              "Months_since_last_delinquent           53655   53.380624\n",
              "Credit_Score                           19668   19.567423\n",
              "Annual_Income                          19668   19.567423\n",
              "Years_in_current_job                    4736    4.711781\n",
              "Bankruptcies                             718    0.714328\n",
              "Tax_Liens                                524    0.521320\n",
              "Maximum_Open_Credit                      516    0.513361\n",
              "Years_of_Credit_History                  514    0.511372\n",
              "Current_Credit_Balance                   514    0.511372\n",
              "Number_of_Credit_Problems                514    0.511372\n",
              "Number_of_Open_Accounts                  514    0.511372\n",
              "Loan_ID                                  514    0.511372\n",
              "Monthly_Debt                             514    0.511372\n",
              "Customer_ID                              514    0.511372\n",
              "Home_Ownership                           514    0.511372\n",
              "Term                                     514    0.511372\n",
              "Current_Loan_Amount                      514    0.511372\n",
              "Loan_Status                              514    0.511372\n",
              "Purpose                                  514    0.511372"
            ]
          },
          "execution_count": 210,
          "metadata": {},
          "output_type": "execute_result"
        }
      ],
      "source": [
        "# let's check the data for missing values and output as percentage\n",
        "missing_values = loan_train.data.isnull().sum().sort_values(ascending=False)\n",
        "percentage = missing_values / loan_train.data.shape[0] * 100\n",
        "\n",
        "# create a dataframe with the missing values and percentage\n",
        "missing_values_df = pd.DataFrame({'Missing_Values': missing_values, 'Percentage': percentage})\n",
        "missing_values_df"
      ]
    },
    {
      "cell_type": "markdown",
      "metadata": {
        "id": "XsLVBo1SkMz5"
      },
      "source": [
        "* The data has alot of missing values"
      ]
    },
    {
      "cell_type": "code",
      "execution_count": 211,
      "metadata": {},
      "outputs": [],
      "source": [
        "# let's drop the Months_since_last_delinquent column\n",
        "loan_train.data.drop('Months_since_last_delinquent', axis=1, inplace=True)"
      ]
    },
    {
      "cell_type": "code",
      "execution_count": 212,
      "metadata": {},
      "outputs": [],
      "source": [
        "# let's impute Credit_Score and Annual_Income with the mean\n",
        "loan_train.data['Credit_Score'].fillna(loan_train.data['Credit_Score'].mean(), inplace=True)\n",
        "loan_train.data['Annual_Income'].fillna(loan_train.data['Annual_Income'].mean(), inplace=True)"
      ]
    },
    {
      "cell_type": "code",
      "execution_count": 213,
      "metadata": {},
      "outputs": [
        {
          "data": {
            "text/html": [
              "<div>\n",
              "<style scoped>\n",
              "    .dataframe tbody tr th:only-of-type {\n",
              "        vertical-align: middle;\n",
              "    }\n",
              "\n",
              "    .dataframe tbody tr th {\n",
              "        vertical-align: top;\n",
              "    }\n",
              "\n",
              "    .dataframe thead th {\n",
              "        text-align: right;\n",
              "    }\n",
              "</style>\n",
              "<table border=\"1\" class=\"dataframe\">\n",
              "  <thead>\n",
              "    <tr style=\"text-align: right;\">\n",
              "      <th></th>\n",
              "      <th>Missing_Values</th>\n",
              "      <th>Percentage</th>\n",
              "    </tr>\n",
              "  </thead>\n",
              "  <tbody>\n",
              "    <tr>\n",
              "      <th>Years_in_current_job</th>\n",
              "      <td>4736</td>\n",
              "      <td>4.711781</td>\n",
              "    </tr>\n",
              "    <tr>\n",
              "      <th>Bankruptcies</th>\n",
              "      <td>718</td>\n",
              "      <td>0.714328</td>\n",
              "    </tr>\n",
              "    <tr>\n",
              "      <th>Tax_Liens</th>\n",
              "      <td>524</td>\n",
              "      <td>0.521320</td>\n",
              "    </tr>\n",
              "    <tr>\n",
              "      <th>Maximum_Open_Credit</th>\n",
              "      <td>516</td>\n",
              "      <td>0.513361</td>\n",
              "    </tr>\n",
              "    <tr>\n",
              "      <th>Monthly_Debt</th>\n",
              "      <td>514</td>\n",
              "      <td>0.511372</td>\n",
              "    </tr>\n",
              "    <tr>\n",
              "      <th>Current_Credit_Balance</th>\n",
              "      <td>514</td>\n",
              "      <td>0.511372</td>\n",
              "    </tr>\n",
              "    <tr>\n",
              "      <th>Number_of_Credit_Problems</th>\n",
              "      <td>514</td>\n",
              "      <td>0.511372</td>\n",
              "    </tr>\n",
              "    <tr>\n",
              "      <th>Number_of_Open_Accounts</th>\n",
              "      <td>514</td>\n",
              "      <td>0.511372</td>\n",
              "    </tr>\n",
              "    <tr>\n",
              "      <th>Years_of_Credit_History</th>\n",
              "      <td>514</td>\n",
              "      <td>0.511372</td>\n",
              "    </tr>\n",
              "    <tr>\n",
              "      <th>Loan_ID</th>\n",
              "      <td>514</td>\n",
              "      <td>0.511372</td>\n",
              "    </tr>\n",
              "    <tr>\n",
              "      <th>Customer_ID</th>\n",
              "      <td>514</td>\n",
              "      <td>0.511372</td>\n",
              "    </tr>\n",
              "    <tr>\n",
              "      <th>Home_Ownership</th>\n",
              "      <td>514</td>\n",
              "      <td>0.511372</td>\n",
              "    </tr>\n",
              "    <tr>\n",
              "      <th>Term</th>\n",
              "      <td>514</td>\n",
              "      <td>0.511372</td>\n",
              "    </tr>\n",
              "    <tr>\n",
              "      <th>Current_Loan_Amount</th>\n",
              "      <td>514</td>\n",
              "      <td>0.511372</td>\n",
              "    </tr>\n",
              "    <tr>\n",
              "      <th>Loan_Status</th>\n",
              "      <td>514</td>\n",
              "      <td>0.511372</td>\n",
              "    </tr>\n",
              "    <tr>\n",
              "      <th>Purpose</th>\n",
              "      <td>514</td>\n",
              "      <td>0.511372</td>\n",
              "    </tr>\n",
              "    <tr>\n",
              "      <th>Annual_Income</th>\n",
              "      <td>0</td>\n",
              "      <td>0.000000</td>\n",
              "    </tr>\n",
              "    <tr>\n",
              "      <th>Credit_Score</th>\n",
              "      <td>0</td>\n",
              "      <td>0.000000</td>\n",
              "    </tr>\n",
              "  </tbody>\n",
              "</table>\n",
              "</div>"
            ],
            "text/plain": [
              "                           Missing_Values  Percentage\n",
              "Years_in_current_job                 4736    4.711781\n",
              "Bankruptcies                          718    0.714328\n",
              "Tax_Liens                             524    0.521320\n",
              "Maximum_Open_Credit                   516    0.513361\n",
              "Monthly_Debt                          514    0.511372\n",
              "Current_Credit_Balance                514    0.511372\n",
              "Number_of_Credit_Problems             514    0.511372\n",
              "Number_of_Open_Accounts               514    0.511372\n",
              "Years_of_Credit_History               514    0.511372\n",
              "Loan_ID                               514    0.511372\n",
              "Customer_ID                           514    0.511372\n",
              "Home_Ownership                        514    0.511372\n",
              "Term                                  514    0.511372\n",
              "Current_Loan_Amount                   514    0.511372\n",
              "Loan_Status                           514    0.511372\n",
              "Purpose                               514    0.511372\n",
              "Annual_Income                           0    0.000000\n",
              "Credit_Score                            0    0.000000"
            ]
          },
          "execution_count": 213,
          "metadata": {},
          "output_type": "execute_result"
        }
      ],
      "source": [
        "# let's check the data for missing values and output as percentage\n",
        "missing_values = loan_train.data.isnull().sum().sort_values(ascending=False)\n",
        "percentage = missing_values / loan_train.data.shape[0] * 100\n",
        "\n",
        "# create a dataframe with the missing values and percentage\n",
        "missing_values_df = pd.DataFrame({'Missing_Values': missing_values, 'Percentage': percentage})\n",
        "missing_values_df"
      ]
    },
    {
      "cell_type": "code",
      "execution_count": 214,
      "metadata": {},
      "outputs": [],
      "source": [
        "# let's drop the remmaining missing values\n",
        "loan_train.data.dropna(inplace=True)"
      ]
    },
    {
      "cell_type": "code",
      "execution_count": 215,
      "metadata": {},
      "outputs": [
        {
          "data": {
            "text/plain": [
              "0"
            ]
          },
          "execution_count": 215,
          "metadata": {},
          "output_type": "execute_result"
        }
      ],
      "source": [
        "# let's check the data for missing values \n",
        "loan_train.data.isnull().sum().sum()"
      ]
    },
    {
      "cell_type": "markdown",
      "metadata": {},
      "source": [
        "* The data does not have any missing values."
      ]
    },
    {
      "cell_type": "markdown",
      "metadata": {},
      "source": [
        "### c) Consistency"
      ]
    },
    {
      "cell_type": "code",
      "execution_count": 216,
      "metadata": {},
      "outputs": [
        {
          "name": "stdout",
          "output_type": "stream",
          "text": [
            "The data has 9781 duplicate values and 10.234169003473822% of the data\n"
          ]
        }
      ],
      "source": [
        "# let's check the data for duplicate values as a percentage\n",
        "duplicate_values = loan_train.data.duplicated().sum()\n",
        "percentage = duplicate_values / loan_train.data.shape[0] * 100\n",
        "\n",
        "print(f\"The data has {duplicate_values} duplicate values and {percentage}% of the data\")"
      ]
    },
    {
      "cell_type": "markdown",
      "metadata": {},
      "source": [
        "* We will drop the duplicates."
      ]
    },
    {
      "cell_type": "code",
      "execution_count": 217,
      "metadata": {},
      "outputs": [],
      "source": [
        "# let's drop the duplicate values\n",
        "loan_train.data.drop_duplicates(inplace=True)"
      ]
    },
    {
      "cell_type": "code",
      "execution_count": 218,
      "metadata": {},
      "outputs": [
        {
          "data": {
            "text/plain": [
              "0"
            ]
          },
          "execution_count": 218,
          "metadata": {},
          "output_type": "execute_result"
        }
      ],
      "source": [
        "# let's check the data for duplicate values \n",
        "loan_train.data.isnull().sum().sum()"
      ]
    },
    {
      "cell_type": "markdown",
      "metadata": {},
      "source": [
        "* The data does not have duplicate values."
      ]
    },
    {
      "cell_type": "markdown",
      "metadata": {},
      "source": [
        "### d) Accuracy"
      ]
    },
    {
      "cell_type": "code",
      "execution_count": 219,
      "metadata": {},
      "outputs": [],
      "source": [
        "# let's check the datatypes of the data\n",
        "loan_train.data.dtypes\n",
        "\n",
        "# let's drop customer id and loan id\n",
        "loan_train.data.drop(['Customer_ID', 'Loan_ID'], axis=1, inplace=True)"
      ]
    },
    {
      "cell_type": "code",
      "execution_count": 220,
      "metadata": {},
      "outputs": [
        {
          "data": {
            "text/html": [
              "<div>\n",
              "<style scoped>\n",
              "    .dataframe tbody tr th:only-of-type {\n",
              "        vertical-align: middle;\n",
              "    }\n",
              "\n",
              "    .dataframe tbody tr th {\n",
              "        vertical-align: top;\n",
              "    }\n",
              "\n",
              "    .dataframe thead th {\n",
              "        text-align: right;\n",
              "    }\n",
              "</style>\n",
              "<table border=\"1\" class=\"dataframe\">\n",
              "  <thead>\n",
              "    <tr style=\"text-align: right;\">\n",
              "      <th></th>\n",
              "      <th>Loan_Status</th>\n",
              "      <th>Current_Loan_Amount</th>\n",
              "      <th>Term</th>\n",
              "      <th>Credit_Score</th>\n",
              "      <th>Annual_Income</th>\n",
              "      <th>Years_in_current_job</th>\n",
              "      <th>Home_Ownership</th>\n",
              "      <th>Purpose</th>\n",
              "      <th>Monthly_Debt</th>\n",
              "      <th>Years_of_Credit_History</th>\n",
              "      <th>Number_of_Open_Accounts</th>\n",
              "      <th>Number_of_Credit_Problems</th>\n",
              "      <th>Current_Credit_Balance</th>\n",
              "      <th>Maximum_Open_Credit</th>\n",
              "      <th>Bankruptcies</th>\n",
              "      <th>Tax_Liens</th>\n",
              "    </tr>\n",
              "  </thead>\n",
              "  <tbody>\n",
              "    <tr>\n",
              "      <th>0</th>\n",
              "      <td>1</td>\n",
              "      <td>445412.0</td>\n",
              "      <td>0</td>\n",
              "      <td>709.000000</td>\n",
              "      <td>1.167493e+06</td>\n",
              "      <td>8 years</td>\n",
              "      <td>Home Mortgage</td>\n",
              "      <td>Home Improvements</td>\n",
              "      <td>5214.74</td>\n",
              "      <td>17.2</td>\n",
              "      <td>6.0</td>\n",
              "      <td>1.0</td>\n",
              "      <td>228190.0</td>\n",
              "      <td>416746.0</td>\n",
              "      <td>1.0</td>\n",
              "      <td>0.0</td>\n",
              "    </tr>\n",
              "    <tr>\n",
              "      <th>1</th>\n",
              "      <td>1</td>\n",
              "      <td>262328.0</td>\n",
              "      <td>0</td>\n",
              "      <td>1076.456089</td>\n",
              "      <td>1.378277e+06</td>\n",
              "      <td>10+ years</td>\n",
              "      <td>Home Mortgage</td>\n",
              "      <td>Debt Consolidation</td>\n",
              "      <td>33295.98</td>\n",
              "      <td>21.1</td>\n",
              "      <td>35.0</td>\n",
              "      <td>0.0</td>\n",
              "      <td>229976.0</td>\n",
              "      <td>850784.0</td>\n",
              "      <td>0.0</td>\n",
              "      <td>0.0</td>\n",
              "    </tr>\n",
              "    <tr>\n",
              "      <th>2</th>\n",
              "      <td>1</td>\n",
              "      <td>99999999.0</td>\n",
              "      <td>0</td>\n",
              "      <td>741.000000</td>\n",
              "      <td>2.231892e+06</td>\n",
              "      <td>8 years</td>\n",
              "      <td>Own Home</td>\n",
              "      <td>Debt Consolidation</td>\n",
              "      <td>29200.53</td>\n",
              "      <td>14.9</td>\n",
              "      <td>18.0</td>\n",
              "      <td>1.0</td>\n",
              "      <td>297996.0</td>\n",
              "      <td>750090.0</td>\n",
              "      <td>0.0</td>\n",
              "      <td>0.0</td>\n",
              "    </tr>\n",
              "    <tr>\n",
              "      <th>3</th>\n",
              "      <td>1</td>\n",
              "      <td>347666.0</td>\n",
              "      <td>1</td>\n",
              "      <td>721.000000</td>\n",
              "      <td>8.069490e+05</td>\n",
              "      <td>3 years</td>\n",
              "      <td>Own Home</td>\n",
              "      <td>Debt Consolidation</td>\n",
              "      <td>8741.90</td>\n",
              "      <td>12.0</td>\n",
              "      <td>9.0</td>\n",
              "      <td>0.0</td>\n",
              "      <td>256329.0</td>\n",
              "      <td>386958.0</td>\n",
              "      <td>0.0</td>\n",
              "      <td>0.0</td>\n",
              "    </tr>\n",
              "    <tr>\n",
              "      <th>4</th>\n",
              "      <td>1</td>\n",
              "      <td>176220.0</td>\n",
              "      <td>0</td>\n",
              "      <td>1076.456089</td>\n",
              "      <td>1.378277e+06</td>\n",
              "      <td>5 years</td>\n",
              "      <td>Rent</td>\n",
              "      <td>Debt Consolidation</td>\n",
              "      <td>20639.70</td>\n",
              "      <td>6.1</td>\n",
              "      <td>15.0</td>\n",
              "      <td>0.0</td>\n",
              "      <td>253460.0</td>\n",
              "      <td>427174.0</td>\n",
              "      <td>0.0</td>\n",
              "      <td>0.0</td>\n",
              "    </tr>\n",
              "  </tbody>\n",
              "</table>\n",
              "</div>"
            ],
            "text/plain": [
              "   Loan_Status  Current_Loan_Amount  Term  Credit_Score  Annual_Income  \\\n",
              "0            1             445412.0     0    709.000000   1.167493e+06   \n",
              "1            1             262328.0     0   1076.456089   1.378277e+06   \n",
              "2            1           99999999.0     0    741.000000   2.231892e+06   \n",
              "3            1             347666.0     1    721.000000   8.069490e+05   \n",
              "4            1             176220.0     0   1076.456089   1.378277e+06   \n",
              "\n",
              "  Years_in_current_job Home_Ownership             Purpose  Monthly_Debt  \\\n",
              "0              8 years  Home Mortgage   Home Improvements       5214.74   \n",
              "1            10+ years  Home Mortgage  Debt Consolidation      33295.98   \n",
              "2              8 years       Own Home  Debt Consolidation      29200.53   \n",
              "3              3 years       Own Home  Debt Consolidation       8741.90   \n",
              "4              5 years           Rent  Debt Consolidation      20639.70   \n",
              "\n",
              "   Years_of_Credit_History  Number_of_Open_Accounts  \\\n",
              "0                     17.2                      6.0   \n",
              "1                     21.1                     35.0   \n",
              "2                     14.9                     18.0   \n",
              "3                     12.0                      9.0   \n",
              "4                      6.1                     15.0   \n",
              "\n",
              "   Number_of_Credit_Problems  Current_Credit_Balance  Maximum_Open_Credit  \\\n",
              "0                        1.0                228190.0             416746.0   \n",
              "1                        0.0                229976.0             850784.0   \n",
              "2                        1.0                297996.0             750090.0   \n",
              "3                        0.0                256329.0             386958.0   \n",
              "4                        0.0                253460.0             427174.0   \n",
              "\n",
              "   Bankruptcies  Tax_Liens  \n",
              "0           1.0        0.0  \n",
              "1           0.0        0.0  \n",
              "2           0.0        0.0  \n",
              "3           0.0        0.0  \n",
              "4           0.0        0.0  "
            ]
          },
          "execution_count": 220,
          "metadata": {},
          "output_type": "execute_result"
        }
      ],
      "source": [
        "# let's convert Loan_Status and Term to binary\n",
        "loan_train.data['Loan_Status'] = loan_train.data['Loan_Status'].map({'Fully Paid': 1, 'Charged Off': 0})\n",
        "loan_train.data['Term'] = loan_train.data['Term'].map({'Short Term': 0, 'Long Term': 1})\n",
        "loan_train.data_head()"
      ]
    },
    {
      "cell_type": "markdown",
      "metadata": {},
      "source": [
        "### e) Anomalies"
      ]
    },
    {
      "cell_type": "code",
      "execution_count": 221,
      "metadata": {},
      "outputs": [
        {
          "data": {
            "text/plain": [
              "['Loan_Status',\n",
              " 'Current_Loan_Amount',\n",
              " 'Term',\n",
              " 'Credit_Score',\n",
              " 'Annual_Income',\n",
              " 'Monthly_Debt',\n",
              " 'Years_of_Credit_History',\n",
              " 'Number_of_Open_Accounts',\n",
              " 'Number_of_Credit_Problems',\n",
              " 'Current_Credit_Balance',\n",
              " 'Maximum_Open_Credit',\n",
              " 'Bankruptcies',\n",
              " 'Tax_Liens']"
            ]
          },
          "execution_count": 221,
          "metadata": {},
          "output_type": "execute_result"
        }
      ],
      "source": [
        "# let's create a variable to store all columns with numeric data types\n",
        "numeric_columns = [col for col in loan_train.data.columns if loan_train.data[col].dtype in ['int64', 'float64']]\n",
        "numeric_columns"
      ]
    },
    {
      "cell_type": "code",
      "execution_count": 222,
      "metadata": {},
      "outputs": [],
      "source": [
        "# let's remove loan status and term from the numeric columns\n",
        "numeric_columns.remove('Loan_Status')\n",
        "numeric_columns.remove('Term')"
      ]
    },
    {
      "cell_type": "code",
      "execution_count": 223,
      "metadata": {},
      "outputs": [
        {
          "ename": "TypeError",
          "evalue": "'Data' object is not subscriptable",
          "output_type": "error",
          "traceback": [
            "\u001b[0;31m---------------------------------------------------------------------------\u001b[0m",
            "\u001b[0;31mTypeError\u001b[0m                                 Traceback (most recent call last)",
            "\u001b[1;32m/Users/steveogaja/Desktop/Documents/Bank Loan Status Classification/Loan_Status_Classification.ipynb Cell 48'\u001b[0m in \u001b[0;36m<module>\u001b[0;34m\u001b[0m\n\u001b[1;32m      <a href='vscode-notebook-cell:/Users/steveogaja/Desktop/Documents/Bank%20Loan%20Status%20Classification/Loan_Status_Classification.ipynb#ch0000047?line=1'>2</a>\u001b[0m \u001b[39mfor\u001b[39;00m col \u001b[39min\u001b[39;00m numeric_columns:\n\u001b[1;32m      <a href='vscode-notebook-cell:/Users/steveogaja/Desktop/Documents/Bank%20Loan%20Status%20Classification/Loan_Status_Classification.ipynb#ch0000047?line=2'>3</a>\u001b[0m     plt\u001b[39m.\u001b[39mfigure(figsize\u001b[39m=\u001b[39m(\u001b[39m10\u001b[39m, \u001b[39m5\u001b[39m))\n\u001b[0;32m----> <a href='vscode-notebook-cell:/Users/steveogaja/Desktop/Documents/Bank%20Loan%20Status%20Classification/Loan_Status_Classification.ipynb#ch0000047?line=3'>4</a>\u001b[0m     sns\u001b[39m.\u001b[39mboxplot( y\u001b[39m=\u001b[39mloan_train[col], orient\u001b[39m=\u001b[39m\u001b[39m'\u001b[39m\u001b[39mh\u001b[39m\u001b[39m'\u001b[39m, color\u001b[39m=\u001b[39m\u001b[39m'\u001b[39m\u001b[39mgreen\u001b[39m\u001b[39m'\u001b[39m)\n\u001b[1;32m      <a href='vscode-notebook-cell:/Users/steveogaja/Desktop/Documents/Bank%20Loan%20Status%20Classification/Loan_Status_Classification.ipynb#ch0000047?line=4'>5</a>\u001b[0m     plt\u001b[39m.\u001b[39mshow()\n",
            "\u001b[0;31mTypeError\u001b[0m: 'Data' object is not subscriptable"
          ]
        },
        {
          "data": {
            "text/plain": [
              "<Figure size 720x360 with 0 Axes>"
            ]
          },
          "metadata": {},
          "output_type": "display_data"
        }
      ],
      "source": [
        "# let's check the columns with outliers using a boxplot using a for loop for numeric columns in a vertical orientation using seaborn\n",
        "for col in numeric_columns:\n",
        "    plt.figure(figsize=(10, 5))\n",
        "    sns.boxplot( y=loan_train[col], orient='h', color='green')\n",
        "    plt.show()"
      ]
    },
    {
      "cell_type": "markdown",
      "metadata": {},
      "source": [
        "* The data has outliers which will not be dropped because they represent the actual values in the data."
      ]
    },
    {
      "cell_type": "markdown",
      "metadata": {},
      "source": [
        "## 5. Exploratory Data Analysis"
      ]
    },
    {
      "cell_type": "markdown",
      "metadata": {},
      "source": [
        "### a) Univariate Analysis"
      ]
    },
    {
      "cell_type": "code",
      "execution_count": 224,
      "metadata": {},
      "outputs": [
        {
          "data": {
            "text/html": [
              "<div>\n",
              "<style scoped>\n",
              "    .dataframe tbody tr th:only-of-type {\n",
              "        vertical-align: middle;\n",
              "    }\n",
              "\n",
              "    .dataframe tbody tr th {\n",
              "        vertical-align: top;\n",
              "    }\n",
              "\n",
              "    .dataframe thead th {\n",
              "        text-align: right;\n",
              "    }\n",
              "</style>\n",
              "<table border=\"1\" class=\"dataframe\">\n",
              "  <thead>\n",
              "    <tr style=\"text-align: right;\">\n",
              "      <th></th>\n",
              "      <th>Loan_Status</th>\n",
              "      <th>Current_Loan_Amount</th>\n",
              "      <th>Term</th>\n",
              "      <th>Credit_Score</th>\n",
              "      <th>Annual_Income</th>\n",
              "      <th>Monthly_Debt</th>\n",
              "      <th>Years_of_Credit_History</th>\n",
              "      <th>Number_of_Open_Accounts</th>\n",
              "      <th>Number_of_Credit_Problems</th>\n",
              "      <th>Current_Credit_Balance</th>\n",
              "      <th>Maximum_Open_Credit</th>\n",
              "      <th>Bankruptcies</th>\n",
              "      <th>Tax_Liens</th>\n",
              "    </tr>\n",
              "  </thead>\n",
              "  <tbody>\n",
              "    <tr>\n",
              "      <th>count</th>\n",
              "      <td>85791.000000</td>\n",
              "      <td>8.579100e+04</td>\n",
              "      <td>85791.000000</td>\n",
              "      <td>85791.000000</td>\n",
              "      <td>8.579100e+04</td>\n",
              "      <td>85791.000000</td>\n",
              "      <td>85791.000000</td>\n",
              "      <td>85791.000000</td>\n",
              "      <td>85791.000000</td>\n",
              "      <td>8.579100e+04</td>\n",
              "      <td>8.579100e+04</td>\n",
              "      <td>85791.000000</td>\n",
              "      <td>85791.000000</td>\n",
              "    </tr>\n",
              "    <tr>\n",
              "      <th>mean</th>\n",
              "      <td>0.751547</td>\n",
              "      <td>1.312880e+07</td>\n",
              "      <td>0.270075</td>\n",
              "      <td>1115.092001</td>\n",
              "      <td>1.392734e+06</td>\n",
              "      <td>18641.047257</td>\n",
              "      <td>18.037267</td>\n",
              "      <td>11.179529</td>\n",
              "      <td>0.159143</td>\n",
              "      <td>2.962821e+05</td>\n",
              "      <td>7.748651e+05</td>\n",
              "      <td>0.110816</td>\n",
              "      <td>0.027719</td>\n",
              "    </tr>\n",
              "    <tr>\n",
              "      <th>std</th>\n",
              "      <td>0.432118</td>\n",
              "      <td>3.336658e+07</td>\n",
              "      <td>0.444001</td>\n",
              "      <td>1385.201551</td>\n",
              "      <td>9.921440e+05</td>\n",
              "      <td>12197.799878</td>\n",
              "      <td>6.815781</td>\n",
              "      <td>5.007267</td>\n",
              "      <td>0.469544</td>\n",
              "      <td>3.737015e+05</td>\n",
              "      <td>8.932842e+06</td>\n",
              "      <td>0.341166</td>\n",
              "      <td>0.251168</td>\n",
              "    </tr>\n",
              "    <tr>\n",
              "      <th>min</th>\n",
              "      <td>0.000000</td>\n",
              "      <td>1.542200e+04</td>\n",
              "      <td>0.000000</td>\n",
              "      <td>585.000000</td>\n",
              "      <td>7.662700e+04</td>\n",
              "      <td>0.000000</td>\n",
              "      <td>3.600000</td>\n",
              "      <td>0.000000</td>\n",
              "      <td>0.000000</td>\n",
              "      <td>0.000000e+00</td>\n",
              "      <td>0.000000e+00</td>\n",
              "      <td>0.000000</td>\n",
              "      <td>0.000000</td>\n",
              "    </tr>\n",
              "    <tr>\n",
              "      <th>25%</th>\n",
              "      <td>1.000000</td>\n",
              "      <td>1.858560e+05</td>\n",
              "      <td>0.000000</td>\n",
              "      <td>715.000000</td>\n",
              "      <td>9.500950e+05</td>\n",
              "      <td>10404.590000</td>\n",
              "      <td>13.400000</td>\n",
              "      <td>8.000000</td>\n",
              "      <td>0.000000</td>\n",
              "      <td>1.146270e+05</td>\n",
              "      <td>2.794110e+05</td>\n",
              "      <td>0.000000</td>\n",
              "      <td>0.000000</td>\n",
              "    </tr>\n",
              "    <tr>\n",
              "      <th>50%</th>\n",
              "      <td>1.000000</td>\n",
              "      <td>3.204740e+05</td>\n",
              "      <td>0.000000</td>\n",
              "      <td>737.000000</td>\n",
              "      <td>1.378277e+06</td>\n",
              "      <td>16363.560000</td>\n",
              "      <td>16.900000</td>\n",
              "      <td>10.000000</td>\n",
              "      <td>0.000000</td>\n",
              "      <td>2.120970e+05</td>\n",
              "      <td>4.764760e+05</td>\n",
              "      <td>0.000000</td>\n",
              "      <td>0.000000</td>\n",
              "    </tr>\n",
              "    <tr>\n",
              "      <th>75%</th>\n",
              "      <td>1.000000</td>\n",
              "      <td>5.362060e+05</td>\n",
              "      <td>1.000000</td>\n",
              "      <td>1076.456089</td>\n",
              "      <td>1.512400e+06</td>\n",
              "      <td>24157.455000</td>\n",
              "      <td>21.500000</td>\n",
              "      <td>14.000000</td>\n",
              "      <td>0.000000</td>\n",
              "      <td>3.707755e+05</td>\n",
              "      <td>7.950250e+05</td>\n",
              "      <td>0.000000</td>\n",
              "      <td>0.000000</td>\n",
              "    </tr>\n",
              "    <tr>\n",
              "      <th>max</th>\n",
              "      <td>1.000000</td>\n",
              "      <td>1.000000e+08</td>\n",
              "      <td>1.000000</td>\n",
              "      <td>7510.000000</td>\n",
              "      <td>1.655574e+08</td>\n",
              "      <td>435843.280000</td>\n",
              "      <td>70.500000</td>\n",
              "      <td>76.000000</td>\n",
              "      <td>15.000000</td>\n",
              "      <td>3.287897e+07</td>\n",
              "      <td>1.539738e+09</td>\n",
              "      <td>7.000000</td>\n",
              "      <td>15.000000</td>\n",
              "    </tr>\n",
              "  </tbody>\n",
              "</table>\n",
              "</div>"
            ],
            "text/plain": [
              "        Loan_Status  Current_Loan_Amount          Term  Credit_Score  \\\n",
              "count  85791.000000         8.579100e+04  85791.000000  85791.000000   \n",
              "mean       0.751547         1.312880e+07      0.270075   1115.092001   \n",
              "std        0.432118         3.336658e+07      0.444001   1385.201551   \n",
              "min        0.000000         1.542200e+04      0.000000    585.000000   \n",
              "25%        1.000000         1.858560e+05      0.000000    715.000000   \n",
              "50%        1.000000         3.204740e+05      0.000000    737.000000   \n",
              "75%        1.000000         5.362060e+05      1.000000   1076.456089   \n",
              "max        1.000000         1.000000e+08      1.000000   7510.000000   \n",
              "\n",
              "       Annual_Income   Monthly_Debt  Years_of_Credit_History  \\\n",
              "count   8.579100e+04   85791.000000             85791.000000   \n",
              "mean    1.392734e+06   18641.047257                18.037267   \n",
              "std     9.921440e+05   12197.799878                 6.815781   \n",
              "min     7.662700e+04       0.000000                 3.600000   \n",
              "25%     9.500950e+05   10404.590000                13.400000   \n",
              "50%     1.378277e+06   16363.560000                16.900000   \n",
              "75%     1.512400e+06   24157.455000                21.500000   \n",
              "max     1.655574e+08  435843.280000                70.500000   \n",
              "\n",
              "       Number_of_Open_Accounts  Number_of_Credit_Problems  \\\n",
              "count             85791.000000               85791.000000   \n",
              "mean                 11.179529                   0.159143   \n",
              "std                   5.007267                   0.469544   \n",
              "min                   0.000000                   0.000000   \n",
              "25%                   8.000000                   0.000000   \n",
              "50%                  10.000000                   0.000000   \n",
              "75%                  14.000000                   0.000000   \n",
              "max                  76.000000                  15.000000   \n",
              "\n",
              "       Current_Credit_Balance  Maximum_Open_Credit  Bankruptcies     Tax_Liens  \n",
              "count            8.579100e+04         8.579100e+04  85791.000000  85791.000000  \n",
              "mean             2.962821e+05         7.748651e+05      0.110816      0.027719  \n",
              "std              3.737015e+05         8.932842e+06      0.341166      0.251168  \n",
              "min              0.000000e+00         0.000000e+00      0.000000      0.000000  \n",
              "25%              1.146270e+05         2.794110e+05      0.000000      0.000000  \n",
              "50%              2.120970e+05         4.764760e+05      0.000000      0.000000  \n",
              "75%              3.707755e+05         7.950250e+05      0.000000      0.000000  \n",
              "max              3.287897e+07         1.539738e+09      7.000000     15.000000  "
            ]
          },
          "execution_count": 224,
          "metadata": {},
          "output_type": "execute_result"
        }
      ],
      "source": [
        "# let's print the description of the data\n",
        "loan_train.data.describe()"
      ]
    },
    {
      "cell_type": "code",
      "execution_count": 225,
      "metadata": {},
      "outputs": [
        {
          "data": {
            "text/html": [
              "<div>\n",
              "<style scoped>\n",
              "    .dataframe tbody tr th:only-of-type {\n",
              "        vertical-align: middle;\n",
              "    }\n",
              "\n",
              "    .dataframe tbody tr th {\n",
              "        vertical-align: top;\n",
              "    }\n",
              "\n",
              "    .dataframe thead th {\n",
              "        text-align: right;\n",
              "    }\n",
              "</style>\n",
              "<table border=\"1\" class=\"dataframe\">\n",
              "  <thead>\n",
              "    <tr style=\"text-align: right;\">\n",
              "      <th></th>\n",
              "      <th>Skew</th>\n",
              "    </tr>\n",
              "  </thead>\n",
              "  <tbody>\n",
              "    <tr>\n",
              "      <th>Current_Loan_Amount</th>\n",
              "      <td>2.219423</td>\n",
              "    </tr>\n",
              "    <tr>\n",
              "      <th>Credit_Score</th>\n",
              "      <td>4.067170</td>\n",
              "    </tr>\n",
              "    <tr>\n",
              "      <th>Annual_Income</th>\n",
              "      <td>56.789618</td>\n",
              "    </tr>\n",
              "    <tr>\n",
              "      <th>Monthly_Debt</th>\n",
              "      <td>2.278639</td>\n",
              "    </tr>\n",
              "    <tr>\n",
              "      <th>Years_of_Credit_History</th>\n",
              "      <td>1.026573</td>\n",
              "    </tr>\n",
              "    <tr>\n",
              "      <th>Number_of_Open_Accounts</th>\n",
              "      <td>1.180051</td>\n",
              "    </tr>\n",
              "    <tr>\n",
              "      <th>Number_of_Credit_Problems</th>\n",
              "      <td>4.966310</td>\n",
              "    </tr>\n",
              "    <tr>\n",
              "      <th>Current_Credit_Balance</th>\n",
              "      <td>14.799388</td>\n",
              "    </tr>\n",
              "    <tr>\n",
              "      <th>Maximum_Open_Credit</th>\n",
              "      <td>127.265619</td>\n",
              "    </tr>\n",
              "    <tr>\n",
              "      <th>Bankruptcies</th>\n",
              "      <td>3.578498</td>\n",
              "    </tr>\n",
              "    <tr>\n",
              "      <th>Tax_Liens</th>\n",
              "      <td>15.899338</td>\n",
              "    </tr>\n",
              "  </tbody>\n",
              "</table>\n",
              "</div>"
            ],
            "text/plain": [
              "                                 Skew\n",
              "Current_Loan_Amount          2.219423\n",
              "Credit_Score                 4.067170\n",
              "Annual_Income               56.789618\n",
              "Monthly_Debt                 2.278639\n",
              "Years_of_Credit_History      1.026573\n",
              "Number_of_Open_Accounts      1.180051\n",
              "Number_of_Credit_Problems    4.966310\n",
              "Current_Credit_Balance      14.799388\n",
              "Maximum_Open_Credit        127.265619\n",
              "Bankruptcies                 3.578498\n",
              "Tax_Liens                   15.899338"
            ]
          },
          "execution_count": 225,
          "metadata": {},
          "output_type": "execute_result"
        }
      ],
      "source": [
        "# let's check for skewness of the data\n",
        "skew_df = pd.DataFrame({'Skew': loan_train.data[numeric_columns].apply(lambda x: x.skew())})\n",
        "skew_df"
      ]
    },
    {
      "cell_type": "markdown",
      "metadata": {},
      "source": [
        "* The variables are right skewed. The values are positive."
      ]
    },
    {
      "cell_type": "code",
      "execution_count": 226,
      "metadata": {},
      "outputs": [
        {
          "data": {
            "text/html": [
              "<div>\n",
              "<style scoped>\n",
              "    .dataframe tbody tr th:only-of-type {\n",
              "        vertical-align: middle;\n",
              "    }\n",
              "\n",
              "    .dataframe tbody tr th {\n",
              "        vertical-align: top;\n",
              "    }\n",
              "\n",
              "    .dataframe thead th {\n",
              "        text-align: right;\n",
              "    }\n",
              "</style>\n",
              "<table border=\"1\" class=\"dataframe\">\n",
              "  <thead>\n",
              "    <tr style=\"text-align: right;\">\n",
              "      <th></th>\n",
              "      <th>Kurtosis</th>\n",
              "    </tr>\n",
              "  </thead>\n",
              "  <tbody>\n",
              "    <tr>\n",
              "      <th>Current_Loan_Amount</th>\n",
              "      <td>2.926143</td>\n",
              "    </tr>\n",
              "    <tr>\n",
              "      <th>Credit_Score</th>\n",
              "      <td>14.807990</td>\n",
              "    </tr>\n",
              "    <tr>\n",
              "      <th>Annual_Income</th>\n",
              "      <td>8803.245737</td>\n",
              "    </tr>\n",
              "    <tr>\n",
              "      <th>Monthly_Debt</th>\n",
              "      <td>24.318686</td>\n",
              "    </tr>\n",
              "    <tr>\n",
              "      <th>Years_of_Credit_History</th>\n",
              "      <td>1.645755</td>\n",
              "    </tr>\n",
              "    <tr>\n",
              "      <th>Number_of_Open_Accounts</th>\n",
              "      <td>3.083973</td>\n",
              "    </tr>\n",
              "    <tr>\n",
              "      <th>Number_of_Credit_Problems</th>\n",
              "      <td>51.441956</td>\n",
              "    </tr>\n",
              "    <tr>\n",
              "      <th>Current_Credit_Balance</th>\n",
              "      <td>789.748847</td>\n",
              "    </tr>\n",
              "    <tr>\n",
              "      <th>Maximum_Open_Credit</th>\n",
              "      <td>18435.876851</td>\n",
              "    </tr>\n",
              "    <tr>\n",
              "      <th>Bankruptcies</th>\n",
              "      <td>18.902574</td>\n",
              "    </tr>\n",
              "    <tr>\n",
              "      <th>Tax_Liens</th>\n",
              "      <td>427.782584</td>\n",
              "    </tr>\n",
              "  </tbody>\n",
              "</table>\n",
              "</div>"
            ],
            "text/plain": [
              "                               Kurtosis\n",
              "Current_Loan_Amount            2.926143\n",
              "Credit_Score                  14.807990\n",
              "Annual_Income               8803.245737\n",
              "Monthly_Debt                  24.318686\n",
              "Years_of_Credit_History        1.645755\n",
              "Number_of_Open_Accounts        3.083973\n",
              "Number_of_Credit_Problems     51.441956\n",
              "Current_Credit_Balance       789.748847\n",
              "Maximum_Open_Credit        18435.876851\n",
              "Bankruptcies                  18.902574\n",
              "Tax_Liens                    427.782584"
            ]
          },
          "execution_count": 226,
          "metadata": {},
          "output_type": "execute_result"
        }
      ],
      "source": [
        "# let's check for kurtosis of the data\n",
        "kurtosis_df = pd.DataFrame({'Kurtosis': loan_train.data[numeric_columns].apply(lambda x: x.kurtosis())})\n",
        "kurtosis_df"
      ]
    },
    {
      "cell_type": "code",
      "execution_count": 227,
      "metadata": {},
      "outputs": [
        {
          "ename": "TypeError",
          "evalue": "'Data' object is not subscriptable",
          "output_type": "error",
          "traceback": [
            "\u001b[0;31m---------------------------------------------------------------------------\u001b[0m",
            "\u001b[0;31mTypeError\u001b[0m                                 Traceback (most recent call last)",
            "\u001b[1;32m/Users/steveogaja/Desktop/Documents/Bank Loan Status Classification/Loan_Status_Classification.ipynb Cell 56'\u001b[0m in \u001b[0;36m<module>\u001b[0;34m\u001b[0m\n\u001b[1;32m      <a href='vscode-notebook-cell:/Users/steveogaja/Desktop/Documents/Bank%20Loan%20Status%20Classification/Loan_Status_Classification.ipynb#ch0000055?line=1'>2</a>\u001b[0m \u001b[39mfor\u001b[39;00m col \u001b[39min\u001b[39;00m numeric_columns:\n\u001b[1;32m      <a href='vscode-notebook-cell:/Users/steveogaja/Desktop/Documents/Bank%20Loan%20Status%20Classification/Loan_Status_Classification.ipynb#ch0000055?line=2'>3</a>\u001b[0m     plt\u001b[39m.\u001b[39mfigure(figsize\u001b[39m=\u001b[39m(\u001b[39m10\u001b[39m, \u001b[39m5\u001b[39m))\n\u001b[0;32m----> <a href='vscode-notebook-cell:/Users/steveogaja/Desktop/Documents/Bank%20Loan%20Status%20Classification/Loan_Status_Classification.ipynb#ch0000055?line=3'>4</a>\u001b[0m     sns\u001b[39m.\u001b[39mdistplot(loan_train[col], color\u001b[39m=\u001b[39m\u001b[39m'\u001b[39m\u001b[39mgreen\u001b[39m\u001b[39m'\u001b[39m)\n\u001b[1;32m      <a href='vscode-notebook-cell:/Users/steveogaja/Desktop/Documents/Bank%20Loan%20Status%20Classification/Loan_Status_Classification.ipynb#ch0000055?line=4'>5</a>\u001b[0m     plt\u001b[39m.\u001b[39mshow()\n",
            "\u001b[0;31mTypeError\u001b[0m: 'Data' object is not subscriptable"
          ]
        },
        {
          "data": {
            "text/plain": [
              "<Figure size 720x360 with 0 Axes>"
            ]
          },
          "metadata": {},
          "output_type": "display_data"
        }
      ],
      "source": [
        "# let's get the distribution plot of the data using a for loop of numeric columns\n",
        "for col in numeric_columns:\n",
        "    plt.figure(figsize=(10, 5))\n",
        "    sns.distplot(loan_train[col], color='green')\n",
        "    plt.show()"
      ]
    },
    {
      "cell_type": "markdown",
      "metadata": {},
      "source": [
        "* The data is positively skewed and leptokurtic."
      ]
    },
    {
      "cell_type": "code",
      "execution_count": 228,
      "metadata": {},
      "outputs": [
        {
          "data": {
            "text/plain": [
              "['Years_in_current_job', 'Home_Ownership', 'Purpose']"
            ]
          },
          "execution_count": 228,
          "metadata": {},
          "output_type": "execute_result"
        }
      ],
      "source": [
        "# let's store the columns with object data types in a variable\n",
        "cat_columns = [col for col in loan_train.data.columns if loan_train.data[col].dtype == 'object']\n",
        "cat_columns"
      ]
    },
    {
      "cell_type": "code",
      "execution_count": 229,
      "metadata": {},
      "outputs": [
        {
          "data": {
            "image/png": "[encoded data removed]",
            "text/plain": [
              "<Figure size 720x360 with 1 Axes>"
            ]
          },
          "metadata": {
            "needs_background": "light"
          },
          "output_type": "display_data"
        },
        {
          "data": {
            "image/png": "[encoded data removed]",
            "text/plain": [
              "<Figure size 720x360 with 1 Axes>"
            ]
          },
          "metadata": {
            "needs_background": "light"
          },
          "output_type": "display_data"
        },
        {
          "data": {
            "image/png": "[encoded data removed]",
            "text/plain": [
              "<Figure size 720x360 with 1 Axes>"
            ]
          },
          "metadata": {
            "needs_background": "light"
          },
          "output_type": "display_data"
        }
      ],
      "source": [
        "# let's plot a bar graph of the data using a for loop of categorical columns\n",
        "for col in cat_columns:\n",
        "    plt.figure(figsize=(10, 5))\n",
        "    plt.xticks(rotation=90)\n",
        "    sns.countplot(x=col, data=loan_train.data, order= loan_train.data[col].value_counts().index)\n",
        "    plt.title(f'{col} Distribution', color='red')\n",
        "    plt.show()"
      ]
    },
    {
      "cell_type": "markdown",
      "metadata": {},
      "source": [
        "### b) Bivariate Analysis"
      ]
    },
    {
      "cell_type": "markdown",
      "metadata": {},
      "source": [
        "#### Categorical vs Categorical Features"
      ]
    },
    {
      "cell_type": "code",
      "execution_count": 230,
      "metadata": {},
      "outputs": [
        {
          "data": {
            "image/png": "[encoded data removed]",
            "text/plain": [
              "<Figure size 720x360 with 1 Axes>"
            ]
          },
          "metadata": {
            "needs_background": "light"
          },
          "output_type": "display_data"
        }
      ],
      "source": [
        "# categorical vs categorical\n",
        "\n",
        "# let's create a stack barplot of years in current job and home ownership and sort in descending order\n",
        "\n",
        "plt.figure(figsize=(10, 5))\n",
        "sns.countplot(x='Years_in_current_job', hue='Home_Ownership', data=loan_train.data,\n",
        "              order=loan_train.data['Years_in_current_job'].value_counts().index)\n",
        "plt.title('Years in Current Job vs Home Ownership', color='red')\n",
        "plt.show()"
      ]
    },
    {
      "cell_type": "markdown",
      "metadata": {},
      "source": [
        "#### Categorical vs Numerical Features"
      ]
    },
    {
      "cell_type": "code",
      "execution_count": 231,
      "metadata": {},
      "outputs": [
        {
          "data": {
            "text/plain": [
              "Index(['Loan_Status', 'Current_Loan_Amount', 'Term', 'Credit_Score',\n",
              "       'Annual_Income', 'Years_in_current_job', 'Home_Ownership', 'Purpose',\n",
              "       'Monthly_Debt', 'Years_of_Credit_History', 'Number_of_Open_Accounts',\n",
              "       'Number_of_Credit_Problems', 'Current_Credit_Balance',\n",
              "       'Maximum_Open_Credit', 'Bankruptcies', 'Tax_Liens'],\n",
              "      dtype='object')"
            ]
          },
          "execution_count": 231,
          "metadata": {},
          "output_type": "execute_result"
        }
      ],
      "source": [
        "loan_train.data.columns"
      ]
    },
    {
      "cell_type": "code",
      "execution_count": 232,
      "metadata": {},
      "outputs": [
        {
          "ename": "TypeError",
          "evalue": "'Data' object is not subscriptable",
          "output_type": "error",
          "traceback": [
            "\u001b[0;31m---------------------------------------------------------------------------\u001b[0m",
            "\u001b[0;31mTypeError\u001b[0m                                 Traceback (most recent call last)",
            "\u001b[1;32m/Users/steveogaja/Desktop/Documents/Bank Loan Status Classification/Loan_Status_Classification.ipynb Cell 65'\u001b[0m in \u001b[0;36m<module>\u001b[0;34m\u001b[0m\n\u001b[1;32m      <a href='vscode-notebook-cell:/Users/steveogaja/Desktop/Documents/Bank%20Loan%20Status%20Classification/Loan_Status_Classification.ipynb#ch0000064?line=0'>1</a>\u001b[0m \u001b[39m# Categorical vs Numeric\u001b[39;00m\n\u001b[1;32m      <a href='vscode-notebook-cell:/Users/steveogaja/Desktop/Documents/Bank%20Loan%20Status%20Classification/Loan_Status_Classification.ipynb#ch0000064?line=1'>2</a>\u001b[0m \n\u001b[1;32m      <a href='vscode-notebook-cell:/Users/steveogaja/Desktop/Documents/Bank%20Loan%20Status%20Classification/Loan_Status_Classification.ipynb#ch0000064?line=2'>3</a>\u001b[0m \u001b[39m# let's create a barplot of Years in current job and Loan Amount\u001b[39;00m\n\u001b[1;32m      <a href='vscode-notebook-cell:/Users/steveogaja/Desktop/Documents/Bank%20Loan%20Status%20Classification/Loan_Status_Classification.ipynb#ch0000064?line=3'>4</a>\u001b[0m plt\u001b[39m.\u001b[39mfigure(figsize\u001b[39m=\u001b[39m(\u001b[39m10\u001b[39m, \u001b[39m5\u001b[39m))\n\u001b[1;32m      <a href='vscode-notebook-cell:/Users/steveogaja/Desktop/Documents/Bank%20Loan%20Status%20Classification/Loan_Status_Classification.ipynb#ch0000064?line=4'>5</a>\u001b[0m sns\u001b[39m.\u001b[39mbarplot(x\u001b[39m=\u001b[39m\u001b[39m'\u001b[39m\u001b[39mYears_in_current_job\u001b[39m\u001b[39m'\u001b[39m, y\u001b[39m=\u001b[39m\u001b[39m'\u001b[39m\u001b[39mCurrent_Loan_Amount\u001b[39m\u001b[39m'\u001b[39m, data\u001b[39m=\u001b[39mloan_train,\n\u001b[0;32m----> <a href='vscode-notebook-cell:/Users/steveogaja/Desktop/Documents/Bank%20Loan%20Status%20Classification/Loan_Status_Classification.ipynb#ch0000064?line=5'>6</a>\u001b[0m             order\u001b[39m=\u001b[39mloan_train[\u001b[39m'\u001b[39;49m\u001b[39mYears_in_current_job\u001b[39;49m\u001b[39m'\u001b[39;49m]\u001b[39m.\u001b[39mvalue_counts()\u001b[39m.\u001b[39mindex)\n\u001b[1;32m      <a href='vscode-notebook-cell:/Users/steveogaja/Desktop/Documents/Bank%20Loan%20Status%20Classification/Loan_Status_Classification.ipynb#ch0000064?line=6'>7</a>\u001b[0m plt\u001b[39m.\u001b[39mtitle(\u001b[39m'\u001b[39m\u001b[39mYears in Current Job vs Loan Amount\u001b[39m\u001b[39m'\u001b[39m, color\u001b[39m=\u001b[39m\u001b[39m'\u001b[39m\u001b[39mred\u001b[39m\u001b[39m'\u001b[39m)\n\u001b[1;32m      <a href='vscode-notebook-cell:/Users/steveogaja/Desktop/Documents/Bank%20Loan%20Status%20Classification/Loan_Status_Classification.ipynb#ch0000064?line=7'>8</a>\u001b[0m plt\u001b[39m.\u001b[39mshow()\n",
            "\u001b[0;31mTypeError\u001b[0m: 'Data' object is not subscriptable"
          ]
        },
        {
          "data": {
            "text/plain": [
              "<Figure size 720x360 with 0 Axes>"
            ]
          },
          "metadata": {},
          "output_type": "display_data"
        }
      ],
      "source": [
        "# Categorical vs Numeric\n",
        "\n",
        "# let's create a barplot of Years in current job and Loan Amount\n",
        "plt.figure(figsize=(10, 5))\n",
        "sns.barplot(x='Years_in_current_job', y='Current_Loan_Amount', data=loan_train,\n",
        "            order=loan_train['Years_in_current_job'].value_counts().index)\n",
        "plt.title('Years in Current Job vs Loan Amount', color='red')\n",
        "plt.show()\n"
      ]
    },
    {
      "cell_type": "markdown",
      "metadata": {},
      "source": [
        "#### Numerical vs Numerical Features"
      ]
    },
    {
      "cell_type": "code",
      "execution_count": 233,
      "metadata": {},
      "outputs": [
        {
          "data": {
            "image/png": "[encoded data removed]",
            "text/plain": [
              "<Figure size 936x576 with 2 Axes>"
            ]
          },
          "metadata": {
            "needs_background": "light"
          },
          "output_type": "display_data"
        }
      ],
      "source": [
        "# Numerical vs Numerical: \n",
        "# \n",
        "# Covariance, Correlation and Scatter Plot\n",
        "\n",
        "# let's get plot a heatmap of the correlation between the numeric columns\n",
        "plt.figure(figsize=(13, 8))\n",
        "sns.heatmap(loan_train.data[numeric_columns].corr(), annot=True, cmap='RdYlGn')\n",
        "plt.title('Correlation between Numeric Columns', color='red', fontsize=20)\n",
        "plt.show()\n"
      ]
    },
    {
      "cell_type": "code",
      "execution_count": 234,
      "metadata": {},
      "outputs": [],
      "source": [
        "# let's plot the pairplot of the numeric columns\n",
        "plt.figure(figsize=(13, 8))\n",
        "sns.pairplot(loan_train.data[numeric_columns], diag_kind='kde', palette='husl')\n",
        "plt.title('Pairplot of Numeric Columns', color='red', fontsize=20)\n",
        "plt.show()"
      ]
    },
    {
      "cell_type": "markdown",
      "metadata": {},
      "source": [
        "## 6. Modeling"
      ]
    },
    {
      "cell_type": "code",
      "execution_count": null,
      "metadata": {},
      "outputs": [],
      "source": []
    }
  ],
  "metadata": {
    "colab": {
      "collapsed_sections": [],
      "name": "Loan_Status_Classification.ipynb",
      "provenance": []
    },
    "interpreter": {
      "hash": "fbfa31a1169c029033fb7020aaef862939342d9dbbe87d12e284199dd6bc8ca6"
    },
    "kernelspec": {
      "display_name": "Python 3.10.2 64-bit",
      "language": "python",
      "name": "python3"
    },
    "language_info": {
      "codemirror_mode": {
        "name": "ipython",
        "version": 3
      },
      "file_extension": ".py",
      "mimetype": "text/x-python",
      "name": "python",
      "nbconvert_exporter": "python",
      "pygments_lexer": "ipython3",
      "version": "3.10.2"
    },
    "vscode": {
      "interpreter": {
        "hash": "aee8b7b246df8f9039afb4144a1f6fd8d2ca17a180786b69acc140d282b71a49"
      }
    }
  },
  "nbformat": 4,
  "nbformat_minor": 0
}
