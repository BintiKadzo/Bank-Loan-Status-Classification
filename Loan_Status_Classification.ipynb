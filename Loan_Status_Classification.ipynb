{
  "nbformat": 4,
  "nbformat_minor": 0,
  "metadata": {
    "colab": {
      "name": "Loan_Status_Classification.ipynb",
      "provenance": [],
      "collapsed_sections": [],
      "include_colab_link": true
    },
    "kernelspec": {
      "name": "python3",
      "display_name": "Python 3"
    },
    "language_info": {
      "name": "python"
    }
  },
  "cells": [
    {
      "cell_type": "markdown",
      "metadata": {
        "id": "view-in-github",
        "colab_type": "text"
      },
      "source": [
        "<a href=\"https://colab.research.google.com/github/stogaja/Bank-Loan-Status-Classification/blob/main/Loan_Status_Classification.ipynb\" target=\"_parent\"><img src=\"https://colab.research.google.com/assets/colab-badge.svg\" alt=\"Open In Colab\"/></a>"
      ]
    },
    {
      "cell_type": "markdown",
      "source": [
        "# LOAN STATUS CLASSIFICATION"
      ],
      "metadata": {
        "id": "Q7bYl8b_exsL"
      }
    },
    {
      "cell_type": "markdown",
      "source": [
        "## 1. Defining the Question"
      ],
      "metadata": {
        "id": "dnT6fVplgVRc"
      }
    },
    {
      "cell_type": "markdown",
      "source": [
        "### a) Specifying the Question"
      ],
      "metadata": {
        "id": "8i7C9qE-gaxJ"
      }
    },
    {
      "cell_type": "markdown",
      "source": [
        "We intend to build a classification model that assesses certain specifics of the client's information for example the client’s current income, credit score, the purpose of the loan with the help of (specific) certain Machine learning algorithms to classify the data into either a good loan application or a bad loan application. This in turn helps the bank predict which loan applications to grant. We will therefore build several models and select the one that works best."
      ],
      "metadata": {
        "id": "ouM4IzgViuca"
      }
    },
    {
      "cell_type": "markdown",
      "source": [
        "### b) Defining the Metric for Success"
      ],
      "metadata": {
        "id": "jqDt9hYIg6zl"
      }
    },
    {
      "cell_type": "markdown",
      "source": [
        "Our study will be considered successful if we are able to meet the below objectives.\n",
        "\n",
        "**Main Objective**\n",
        "\n",
        "To find the groups of people applying for loans in banks at an individual level by building an unsupervised clustering model. \n",
        "\n",
        "**Specific Objectives**\n",
        "\n",
        "i.)  To determine the characteristics responsible for customer loan classification through feature selection.\n",
        "ii.) To determine the maximum loan limit for certain clients based on these features.\n",
        "iii.) To check for anomalies in the number of open accounts by an individual.\n",
        "iv.) To make a prediction on whether a client is likely to pay off their loan or not. \n",
        "v.) To determine the most common purpose for loan application.\n"
      ],
      "metadata": {
        "id": "wTRtklDAjMzR"
      }
    },
    {
      "cell_type": "markdown",
      "source": [
        "### c) Understanding the contex"
      ],
      "metadata": {
        "id": "o_74krsRg9qc"
      }
    },
    {
      "cell_type": "markdown",
      "source": [
        "Loan classification, risk management, and provisioning processes are closely intertwined in a bank's operations. Loan pricing, the frequency and intensity of review and analysis, the rigor of monitoring, and the tolerance for loan losses (which should be precisely proportional to the risk rating grade) are all determined by the characteristics of the various risk rating classes. They are  associated with the amount of risk indicated by a loan's assigned risk rating grade), and the amount of risk indicated by the amount of risk to absorb unforeseen losses, regulatory capital is essential. When loan classification systems are combined with management's ability to recognize negative trends, there is an improved decision making process through portfolio management and early reporting techniques.\n",
        "\n",
        "A loan classification system is an important component of a bank's credit risk assessment and valuation process, as it classifies loans and groups of loans with comparable credit risk characteristics into risk categories. Underwriting and approval, monitoring and managing credit quality, early identification of adverse trends and potentially problem loans, loan loss provisioning, management reporting, and the determination of regulatory capital requirements are all areas where a loan classification system can be useful. Loan classification systems are recognized by both accounting frameworks and Basel II/III regulatory capital frameworks as suitable instruments for accurately assessing credit risk and establishing groupings of loans for collective evaluation for loan loss calculation."
      ],
      "metadata": {
        "id": "6bXgDlT2iixU"
      }
    },
    {
      "cell_type": "markdown",
      "source": [
        "### d). Recording the Experimental Design"
      ],
      "metadata": {
        "id": "7vr0p5L2hEY4"
      }
    },
    {
      "cell_type": "markdown",
      "source": [
        "### e) Data Relevance"
      ],
      "metadata": {
        "id": "LdizgVpFhKx6"
      }
    },
    {
      "cell_type": "markdown",
      "source": [
        "We shall be using the datasets below:\n",
        "\n",
        "i. Credit test dataset ( https://www.kaggle.com/code/sazack/loan-status-classification/data?select=credit_test.csv )\n",
        "\n",
        "ii. Credit train dataset ( https://www.kaggle.com/code/sazack/loan-status-classification/data?select=credit_train.csv )"
      ],
      "metadata": {
        "id": "vgSUtZmOjrOJ"
      }
    },
    {
      "cell_type": "markdown",
      "source": [
        "## 2. Reading the Data"
      ],
      "metadata": {
        "id": "yphjeywhhZjR"
      }
    },
    {
      "cell_type": "code",
      "source": [
        "# let's load the R extension into the environment\n",
        "%load_ext rpy2.ipython"
      ],
      "metadata": {
        "id": "CzDC7E7PhdUP",
        "colab": {
          "base_uri": "https://localhost:8080/"
        },
        "outputId": "6082abc6-74d3-4216-9c44-b7b86127b107"
      },
      "execution_count": null,
      "outputs": [
        {
          "output_type": "stream",
          "name": "stdout",
          "text": [
            "The rpy2.ipython extension is already loaded. To reload it, use:\n",
            "  %reload_ext rpy2.ipython\n"
          ]
        }
      ]
    },
    {
      "cell_type": "code",
      "source": [
        "%%R\n",
        "#Installing the relevant R libraries\n",
        "\n",
        "suppressWarnings(\n",
        "        suppressMessages(if\n",
        "                         (!require(e1071, quietly=TRUE))\n",
        "                install.packages(\"e1071\")))\n",
        "library(e1071)\n",
        "\n",
        "suppressWarnings(\n",
        "        suppressMessages(if\n",
        "                         (!require(factoextra, quietly=TRUE))\n",
        "                install.packages(\"factoextra\")))\n",
        "library(factoextra)\n",
        "\n",
        "suppressWarnings(\n",
        "        suppressMessages(if\n",
        "                         (!require(devtools, quietly=TRUE))\n",
        "                install.packages(\"devtools\")))\n",
        "library(devtools)\n",
        "\n",
        "suppressWarnings(\n",
        "        suppressMessages(if\n",
        "                         (!require(factoextra, quietly=TRUE))\n",
        "                install.packages(\"factoextra\")))\n",
        "library(factoextra)\n",
        "\n",
        "suppressWarnings(\n",
        "        suppressMessages(if\n",
        "                         (!require(Rtsne, quietly=TRUE))\n",
        "                install.packages(\"Rtsne\")))\n",
        "library(Rtsne)\n",
        "\n",
        "suppressWarnings(\n",
        "        suppressMessages(if\n",
        "                         (!require(VIM, quietly=TRUE))\n",
        "                install.packages(\"VIM\")))\n",
        "library(VIM)\n",
        "\n",
        "suppressWarnings(\n",
        "        suppressMessages(if\n",
        "                         (!require(CatEncoders, quietly=TRUE))\n",
        "                install.packages(\"CatEncoders\")))\n",
        "library(CatEncoders)\n",
        "\n",
        "#Installing and loading our caret package\n",
        "\n",
        "suppressWarnings(\n",
        "        suppressMessages(if\n",
        "                         (!require(caret, quietly=TRUE))\n",
        "                install.packages(\"caret\")))\n",
        "library(caret)\n",
        "\n",
        "#Installing and loading the corrplot package for plotting\n",
        "\n",
        "suppressWarnings(\n",
        "        suppressMessages(if\n",
        "                         (!require(corrplot, quietly=TRUE))\n",
        "                install.packages(\"corrplot\")))\n",
        "library(corrplot)\n",
        "\n",
        "suppressWarnings(\n",
        "        suppressMessages(if\n",
        "                         (!require(tibble, quietly=TRUE))\n",
        "                install.packages(\"tibble\")))\n",
        "library(tibble)\n",
        "\n",
        "suppressWarnings(\n",
        "        suppressMessages(if\n",
        "                         (!require(data.table, quietly=TRUE))\n",
        "                install.packages(\"data.table\")))\n",
        "library(data.table)\n",
        "\n",
        "suppressWarnings(\n",
        "        suppressMessages(if\n",
        "                         (!require(dplyr, quietly=TRUE))\n",
        "                install.packages(\"dplyr\")))\n",
        "library(dplyr)\n",
        "\n",
        "suppressWarnings(\n",
        "        suppressMessages(if\n",
        "                         (!require(readr, quietly=TRUE))\n",
        "                install.packages(\"readr\")))\n",
        "library(readr)\n",
        "\n",
        "suppressWarnings(\n",
        "        suppressMessages(if\n",
        "                         (!require(magrittr, quietly=TRUE))\n",
        "                install.packages(\"magrittr\")))\n",
        "library(magrittr)\n",
        "\n",
        "suppressWarnings(\n",
        "        suppressMessages(if\n",
        "                         (!require(knitr, quietly=TRUE))\n",
        "                install.packages(\"knitr\")))\n",
        "library(knitr)\n",
        "\n",
        "suppressWarnings(\n",
        "        suppressMessages(if\n",
        "                         (!require(tidyverse, quietly=TRUE))\n",
        "                install.packages(\"tidyverse\")))\n",
        "library(tidyverse)\n",
        "\n",
        "suppressWarnings(\n",
        "        suppressMessages(if\n",
        "                         (!require(Amelia, quietly=TRUE))\n",
        "                install.packages(\"Amelia\")))\n",
        "library(Amelia)\n",
        "\n",
        "suppressWarnings(\n",
        "        suppressMessages(if\n",
        "                         (!require(Rcpp, quietly=TRUE))\n",
        "                install.packages(\"Rcpp\")))\n",
        "library(Rcpp)\n"
      ],
      "metadata": {
        "id": "xy360LEFRnhp"
      },
      "execution_count": 57,
      "outputs": []
    },
    {
      "cell_type": "code",
      "source": [
        "%%R\n",
        "# let's read the dataset\n",
        "loan <- read.csv(\"credit_train.csv\", sep = \",\")"
      ],
      "metadata": {
        "id": "wf7lhRdsFkOm"
      },
      "execution_count": null,
      "outputs": []
    },
    {
      "cell_type": "code",
      "source": [
        "%%R\n",
        "# let's preview the dataset\n",
        "head(loan)"
      ],
      "metadata": {
        "colab": {
          "base_uri": "https://localhost:8080/"
        },
        "id": "hrAr1HfdZZwB",
        "outputId": "05ab291c-c5f2-4e30-d7cc-10d830ac2417"
      },
      "execution_count": null,
      "outputs": [
        {
          "output_type": "stream",
          "name": "stdout",
          "text": [
            "                               Loan.ID                          Customer.ID\n",
            "1 14dd8831-6af5-400b-83ec-68e61888a048 981165ec-3274-42f5-a3b4-d104041a9ca9\n",
            "2 4771cc26-131a-45db-b5aa-537ea4ba5342 2de017a3-2e01-49cb-a581-08169e83be29\n",
            "3 4eed4e6a-aa2f-4c91-8651-ce984ee8fb26 5efb2b2b-bf11-4dfd-a572-3761a2694725\n",
            "4 77598f7b-32e7-4e3b-a6e5-06ba0d98fe8a e777faab-98ae-45af-9a86-7ce5b33b1011\n",
            "5 d4062e70-befa-4995-8643-a0de73938182 81536ad9-5ccf-4eb8-befb-47a4d608658e\n",
            "6 89d8cb0c-e5c2-4f54-b056-48a645c543dd 4ffe99d3-7f2a-44db-afc1-40943f1f9750\n",
            "  Loan.Status Current.Loan.Amount       Term Credit.Score Annual.Income\n",
            "1  Fully Paid              445412 Short Term          709       1167493\n",
            "2  Fully Paid              262328 Short Term           NA            NA\n",
            "3  Fully Paid            99999999 Short Term          741       2231892\n",
            "4  Fully Paid              347666  Long Term          721        806949\n",
            "5  Fully Paid              176220 Short Term           NA            NA\n",
            "6 Charged Off              206602 Short Term         7290        896857\n",
            "  Years.in.current.job Home.Ownership            Purpose Monthly.Debt\n",
            "1              8 years  Home Mortgage  Home Improvements      5214.74\n",
            "2            10+ years  Home Mortgage Debt Consolidation     33295.98\n",
            "3              8 years       Own Home Debt Consolidation     29200.53\n",
            "4              3 years       Own Home Debt Consolidation      8741.90\n",
            "5              5 years           Rent Debt Consolidation     20639.70\n",
            "6            10+ years  Home Mortgage Debt Consolidation     16367.74\n",
            "  Years.of.Credit.History Months.since.last.delinquent Number.of.Open.Accounts\n",
            "1                    17.2                           NA                       6\n",
            "2                    21.1                            8                      35\n",
            "3                    14.9                           29                      18\n",
            "4                    12.0                           NA                       9\n",
            "5                     6.1                           NA                      15\n",
            "6                    17.3                           NA                       6\n",
            "  Number.of.Credit.Problems Current.Credit.Balance Maximum.Open.Credit\n",
            "1                         1                 228190              416746\n",
            "2                         0                 229976              850784\n",
            "3                         1                 297996              750090\n",
            "4                         0                 256329              386958\n",
            "5                         0                 253460              427174\n",
            "6                         0                 215308              272448\n",
            "  Bankruptcies Tax.Liens\n",
            "1            1         0\n",
            "2            0         0\n",
            "3            0         0\n",
            "4            0         0\n",
            "5            0         0\n",
            "6            0         0\n"
          ]
        }
      ]
    },
    {
      "cell_type": "code",
      "source": [
        "%%R\n",
        "# let's preview the bottom 6 rows\n",
        "tail(loan)"
      ],
      "metadata": {
        "colab": {
          "base_uri": "https://localhost:8080/"
        },
        "id": "SRelTXH-dx58",
        "outputId": "fdb7f487-f764-4089-c8a4-e10f5350d99e"
      },
      "execution_count": null,
      "outputs": [
        {
          "output_type": "stream",
          "name": "stdout",
          "text": [
            "       Loan.ID Customer.ID Loan.Status Current.Loan.Amount Term Credit.Score\n",
            "100509                                                  NA                NA\n",
            "100510                                                  NA                NA\n",
            "100511                                                  NA                NA\n",
            "100512                                                  NA                NA\n",
            "100513                                                  NA                NA\n",
            "100514                                                  NA                NA\n",
            "       Annual.Income Years.in.current.job Home.Ownership Purpose Monthly.Debt\n",
            "100509            NA                                                       NA\n",
            "100510            NA                                                       NA\n",
            "100511            NA                                                       NA\n",
            "100512            NA                                                       NA\n",
            "100513            NA                                                       NA\n",
            "100514            NA                                                       NA\n",
            "       Years.of.Credit.History Months.since.last.delinquent\n",
            "100509                      NA                           NA\n",
            "100510                      NA                           NA\n",
            "100511                      NA                           NA\n",
            "100512                      NA                           NA\n",
            "100513                      NA                           NA\n",
            "100514                      NA                           NA\n",
            "       Number.of.Open.Accounts Number.of.Credit.Problems Current.Credit.Balance\n",
            "100509                      NA                        NA                     NA\n",
            "100510                      NA                        NA                     NA\n",
            "100511                      NA                        NA                     NA\n",
            "100512                      NA                        NA                     NA\n",
            "100513                      NA                        NA                     NA\n",
            "100514                      NA                        NA                     NA\n",
            "       Maximum.Open.Credit Bankruptcies Tax.Liens\n",
            "100509                  NA           NA        NA\n",
            "100510                  NA           NA        NA\n",
            "100511                  NA           NA        NA\n",
            "100512                  NA           NA        NA\n",
            "100513                  NA           NA        NA\n",
            "100514                  NA           NA        NA\n"
          ]
        }
      ]
    },
    {
      "cell_type": "markdown",
      "source": [
        "The dataset has plenty of null values in the dataset"
      ],
      "metadata": {
        "id": "zTYv-6cSd6fT"
      }
    },
    {
      "cell_type": "code",
      "source": [
        "%%R\n",
        "# let's check the shape of the data\n",
        "cat('Number of rows = ', nrow(loan), 'and number of columns = ', ncol(loan), '.')"
      ],
      "metadata": {
        "colab": {
          "base_uri": "https://localhost:8080/"
        },
        "id": "sNB1VydveAas",
        "outputId": "2829b3b2-5bd9-4f7e-b05c-d1d691130d4a"
      },
      "execution_count": null,
      "outputs": [
        {
          "output_type": "stream",
          "name": "stdout",
          "text": [
            "Number of rows =  100514 and number of columns =  19 ."
          ]
        }
      ]
    },
    {
      "cell_type": "code",
      "source": [
        "%%R\n",
        "# let's get the data types of our columns\n",
        "sapply(loan, class)"
      ],
      "metadata": {
        "colab": {
          "base_uri": "https://localhost:8080/"
        },
        "id": "OuZXGV1BebQ-",
        "outputId": "1e86f8a7-f3cc-49c8-b616-db82a0df8d75"
      },
      "execution_count": null,
      "outputs": [
        {
          "output_type": "stream",
          "name": "stdout",
          "text": [
            "                     Loan.ID                  Customer.ID \n",
            "                 \"character\"                  \"character\" \n",
            "                 Loan.Status          Current.Loan.Amount \n",
            "                 \"character\"                    \"integer\" \n",
            "                        Term                 Credit.Score \n",
            "                 \"character\"                    \"integer\" \n",
            "               Annual.Income         Years.in.current.job \n",
            "                   \"integer\"                  \"character\" \n",
            "              Home.Ownership                      Purpose \n",
            "                 \"character\"                  \"character\" \n",
            "                Monthly.Debt      Years.of.Credit.History \n",
            "                   \"numeric\"                    \"numeric\" \n",
            "Months.since.last.delinquent      Number.of.Open.Accounts \n",
            "                   \"integer\"                    \"integer\" \n",
            "   Number.of.Credit.Problems       Current.Credit.Balance \n",
            "                   \"integer\"                    \"integer\" \n",
            "         Maximum.Open.Credit                 Bankruptcies \n",
            "                   \"integer\"                    \"integer\" \n",
            "                   Tax.Liens \n",
            "                   \"integer\" \n"
          ]
        }
      ]
    },
    {
      "cell_type": "code",
      "source": [
        "%%R\n",
        "# let's check the structure of our dataset\n",
        "str(loan)"
      ],
      "metadata": {
        "colab": {
          "base_uri": "https://localhost:8080/"
        },
        "id": "WATHsRjRep6w",
        "outputId": "f6e7051f-f551-45b7-9fe2-2a6d7d0637e8"
      },
      "execution_count": null,
      "outputs": [
        {
          "output_type": "stream",
          "name": "stdout",
          "text": [
            "'data.frame':\t100514 obs. of  19 variables:\n",
            " $ Loan.ID                     : chr  \"14dd8831-6af5-400b-83ec-68e61888a048\" \"4771cc26-131a-45db-b5aa-537ea4ba5342\" \"4eed4e6a-aa2f-4c91-8651-ce984ee8fb26\" \"77598f7b-32e7-4e3b-a6e5-06ba0d98fe8a\" ...\n",
            " $ Customer.ID                 : chr  \"981165ec-3274-42f5-a3b4-d104041a9ca9\" \"2de017a3-2e01-49cb-a581-08169e83be29\" \"5efb2b2b-bf11-4dfd-a572-3761a2694725\" \"e777faab-98ae-45af-9a86-7ce5b33b1011\" ...\n",
            " $ Loan.Status                 : chr  \"Fully Paid\" \"Fully Paid\" \"Fully Paid\" \"Fully Paid\" ...\n",
            " $ Current.Loan.Amount         : int  445412 262328 99999999 347666 176220 206602 217646 648714 548746 215952 ...\n",
            " $ Term                        : chr  \"Short Term\" \"Short Term\" \"Short Term\" \"Long Term\" ...\n",
            " $ Credit.Score                : int  709 NA 741 721 NA 7290 730 NA 678 739 ...\n",
            " $ Annual.Income               : int  1167493 NA 2231892 806949 NA 896857 1184194 NA 2559110 1454735 ...\n",
            " $ Years.in.current.job        : chr  \"8 years\" \"10+ years\" \"8 years\" \"3 years\" ...\n",
            " $ Home.Ownership              : chr  \"Home Mortgage\" \"Home Mortgage\" \"Own Home\" \"Own Home\" ...\n",
            " $ Purpose                     : chr  \"Home Improvements\" \"Debt Consolidation\" \"Debt Consolidation\" \"Debt Consolidation\" ...\n",
            " $ Monthly.Debt                : num  5215 33296 29201 8742 20640 ...\n",
            " $ Years.of.Credit.History     : num  17.2 21.1 14.9 12 6.1 17.3 19.6 8.2 22.6 13.9 ...\n",
            " $ Months.since.last.delinquent: int  NA 8 29 NA NA NA 10 8 33 NA ...\n",
            " $ Number.of.Open.Accounts     : int  6 35 18 9 15 6 13 15 4 20 ...\n",
            " $ Number.of.Credit.Problems   : int  1 0 1 0 0 0 1 0 0 0 ...\n",
            " $ Current.Credit.Balance      : int  228190 229976 297996 256329 253460 215308 122170 193306 437171 669560 ...\n",
            " $ Maximum.Open.Credit         : int  416746 850784 750090 386958 427174 272448 272052 864204 555038 1021460 ...\n",
            " $ Bankruptcies                : int  1 0 0 0 0 0 1 0 0 0 ...\n",
            " $ Tax.Liens                   : int  0 0 0 0 0 0 0 0 0 0 ...\n"
          ]
        }
      ]
    },
    {
      "cell_type": "code",
      "source": [
        "%%R\n",
        "# let's see the unique values for each column\n",
        "loan %>% summarise_all(n_distinct)"
      ],
      "metadata": {
        "colab": {
          "base_uri": "https://localhost:8080/"
        },
        "id": "jDTc6b-6eyhS",
        "outputId": "c6d968ed-465f-45c9-df9b-da1b5512b1c8"
      },
      "execution_count": null,
      "outputs": [
        {
          "output_type": "stream",
          "name": "stdout",
          "text": [
            "  Loan.ID Customer.ID Loan.Status Current.Loan.Amount Term Credit.Score\n",
            "1   82000       82000           3               22005    3          325\n",
            "  Annual.Income Years.in.current.job Home.Ownership Purpose Monthly.Debt\n",
            "1         36175                   13              5      17        65766\n",
            "  Years.of.Credit.History Months.since.last.delinquent Number.of.Open.Accounts\n",
            "1                     507                          117                      52\n",
            "  Number.of.Credit.Problems Current.Credit.Balance Maximum.Open.Credit\n",
            "1                        15                  32731               44597\n",
            "  Bankruptcies Tax.Liens\n",
            "1            9        13\n"
          ]
        }
      ]
    },
    {
      "cell_type": "markdown",
      "source": [
        "## 3. External Data Validation\n"
      ],
      "metadata": {
        "id": "08LxaFbogZ0S"
      }
    },
    {
      "cell_type": "markdown",
      "source": [
        "\n",
        "The data was provided by the bank about the brand and was based on a previous related banking data, there is no need for external validation."
      ],
      "metadata": {
        "id": "CUcZW_EKgh83"
      }
    },
    {
      "cell_type": "markdown",
      "source": [
        "## 4. Data Preparation"
      ],
      "metadata": {
        "id": "0sBio87Wgvrw"
      }
    },
    {
      "cell_type": "markdown",
      "source": [
        "### a) Uniformity"
      ],
      "metadata": {
        "id": "abj6kZ69g4v3"
      }
    },
    {
      "cell_type": "code",
      "source": [
        "%%R\n",
        "colnames(loan)"
      ],
      "metadata": {
        "colab": {
          "base_uri": "https://localhost:8080/"
        },
        "id": "-cIFNk3GhDXy",
        "outputId": "bc0375fc-c676-4d82-ac13-6f4c4c7be16d"
      },
      "execution_count": null,
      "outputs": [
        {
          "output_type": "stream",
          "name": "stdout",
          "text": [
            " [1] \"Loan.ID\"                      \"Customer.ID\"                 \n",
            " [3] \"Loan.Status\"                  \"Current.Loan.Amount\"         \n",
            " [5] \"Term\"                         \"Credit.Score\"                \n",
            " [7] \"Annual.Income\"                \"Years.in.current.job\"        \n",
            " [9] \"Home.Ownership\"               \"Purpose\"                     \n",
            "[11] \"Monthly.Debt\"                 \"Years.of.Credit.History\"     \n",
            "[13] \"Months.since.last.delinquent\" \"Number.of.Open.Accounts\"     \n",
            "[15] \"Number.of.Credit.Problems\"    \"Current.Credit.Balance\"      \n",
            "[17] \"Maximum.Open.Credit\"          \"Bankruptcies\"                \n",
            "[19] \"Tax.Liens\"                   \n"
          ]
        }
      ]
    },
    {
      "cell_type": "code",
      "source": [
        "%%R\n",
        "colnames(loan) <- tolower(colnames(loan))\n",
        "colnames(loan)"
      ],
      "metadata": {
        "colab": {
          "base_uri": "https://localhost:8080/"
        },
        "id": "2XuUnJGih9Na",
        "outputId": "a357bd4d-d0aa-4dd7-c65f-a823130f33e9"
      },
      "execution_count": null,
      "outputs": [
        {
          "output_type": "stream",
          "name": "stdout",
          "text": [
            " [1] \"loan.id\"                      \"customer.id\"                 \n",
            " [3] \"loan.status\"                  \"current.loan.amount\"         \n",
            " [5] \"term\"                         \"credit.score\"                \n",
            " [7] \"annual.income\"                \"years.in.current.job\"        \n",
            " [9] \"home.ownership\"               \"purpose\"                     \n",
            "[11] \"monthly.debt\"                 \"years.of.credit.history\"     \n",
            "[13] \"months.since.last.delinquent\" \"number.of.open.accounts\"     \n",
            "[15] \"number.of.credit.problems\"    \"current.credit.balance\"      \n",
            "[17] \"maximum.open.credit\"          \"bankruptcies\"                \n",
            "[19] \"tax.liens\"                   \n"
          ]
        }
      ]
    },
    {
      "cell_type": "markdown",
      "source": [
        "The column names had camel case letters but we converted the letters into lowercase for easy reference."
      ],
      "metadata": {
        "id": "8AqmYGCnhwG0"
      }
    },
    {
      "cell_type": "markdown",
      "source": [
        "### b) Completeness"
      ],
      "metadata": {
        "id": "VQbN8DDGicLp"
      }
    },
    {
      "cell_type": "code",
      "source": [
        "%%R\n",
        "# let's check for missing data\n",
        "missing.values <- sum(is.na(loan))\n",
        "cat(missing.values)"
      ],
      "metadata": {
        "colab": {
          "base_uri": "https://localhost:8080/"
        },
        "id": "r23EFHwGim08",
        "outputId": "215f2f2c-31e5-48df-f034-f93096f26cec"
      },
      "execution_count": null,
      "outputs": [
        {
          "output_type": "stream",
          "name": "stdout",
          "text": [
            "97833"
          ]
        }
      ]
    },
    {
      "cell_type": "markdown",
      "source": [
        "The data has alot of missing values"
      ],
      "metadata": {
        "id": "XsLVBo1SkMz5"
      }
    },
    {
      "cell_type": "code",
      "source": [
        "cat_cols <- loan[,colnames(loan)[grepl('factor|logical|character',sapply(loan,class))],with=F]\n"
      ],
      "metadata": {
        "colab": {
          "base_uri": "https://localhost:8080/",
          "height": 136
        },
        "id": "7CCPLQniqSZ4",
        "outputId": "3bf57c6f-1569-4f01-903b-3c200cdc4466"
      },
      "execution_count": 55,
      "outputs": [
        {
          "output_type": "error",
          "ename": "SyntaxError",
          "evalue": "ignored",
          "traceback": [
            "\u001b[0;36m  File \u001b[0;32m\"<ipython-input-55-100c38a9dc73>\"\u001b[0;36m, line \u001b[0;32m1\u001b[0m\n\u001b[0;31m    cat_cols <- loan[ ..,colnames(loan)[grepl('factor|logical|character',sapply(loan,class))],with=F]\u001b[0m\n\u001b[0m                      ^\u001b[0m\n\u001b[0;31mSyntaxError\u001b[0m\u001b[0;31m:\u001b[0m invalid syntax\n"
          ]
        }
      ]
    },
    {
      "cell_type": "code",
      "source": [
        "%%R\n",
        "# let's store numerical and categorical columns in variable\n",
        "num_cols <- select_if(loan, is.numeric)\n",
        "cat_cols <- select( -c(num_cols))"
      ],
      "metadata": {
        "colab": {
          "base_uri": "https://localhost:8080/",
          "height": 621
        },
        "id": "QUVhhzIxleo2",
        "outputId": "0334d5d7-780b-40ab-ddc5-6d341a67e30d"
      },
      "execution_count": 53,
      "outputs": [
        {
          "output_type": "stream",
          "name": "stderr",
          "text": [
            "R[write to console]: Error in -c(num_cols) : invalid argument to unary operator\n",
            "\n"
          ]
        },
        {
          "output_type": "stream",
          "name": "stdout",
          "text": [
            "\n",
            "Error in -c(num_cols) : invalid argument to unary operator\n"
          ]
        },
        {
          "output_type": "error",
          "ename": "RInterpreterError",
          "evalue": "ignored",
          "traceback": [
            "\u001b[0;31m---------------------------------------------------------------------------\u001b[0m",
            "\u001b[0;31mRRuntimeError\u001b[0m                             Traceback (most recent call last)",
            "\u001b[0;32m/usr/local/lib/python3.7/dist-packages/rpy2/ipython/rmagic.py\u001b[0m in \u001b[0;36meval\u001b[0;34m(self, code)\u001b[0m\n\u001b[1;32m    267\u001b[0m                 \u001b[0;31m# Need the newline in case the last line in code is a comment.\u001b[0m\u001b[0;34m\u001b[0m\u001b[0;34m\u001b[0m\u001b[0;34m\u001b[0m\u001b[0m\n\u001b[0;32m--> 268\u001b[0;31m                 \u001b[0mvalue\u001b[0m\u001b[0;34m,\u001b[0m \u001b[0mvisible\u001b[0m \u001b[0;34m=\u001b[0m \u001b[0mro\u001b[0m\u001b[0;34m.\u001b[0m\u001b[0mr\u001b[0m\u001b[0;34m(\u001b[0m\u001b[0;34m\"withVisible({%s\\n})\"\u001b[0m \u001b[0;34m%\u001b[0m \u001b[0mcode\u001b[0m\u001b[0;34m)\u001b[0m\u001b[0;34m\u001b[0m\u001b[0;34m\u001b[0m\u001b[0m\n\u001b[0m\u001b[1;32m    269\u001b[0m             \u001b[0;32mexcept\u001b[0m \u001b[0;34m(\u001b[0m\u001b[0mri\u001b[0m\u001b[0;34m.\u001b[0m\u001b[0membedded\u001b[0m\u001b[0;34m.\u001b[0m\u001b[0mRRuntimeError\u001b[0m\u001b[0;34m,\u001b[0m \u001b[0mValueError\u001b[0m\u001b[0;34m)\u001b[0m \u001b[0;32mas\u001b[0m \u001b[0mexception\u001b[0m\u001b[0;34m:\u001b[0m\u001b[0;34m\u001b[0m\u001b[0;34m\u001b[0m\u001b[0m\n",
            "\u001b[0;32m/usr/local/lib/python3.7/dist-packages/rpy2/robjects/__init__.py\u001b[0m in \u001b[0;36m__call__\u001b[0;34m(self, string)\u001b[0m\n\u001b[1;32m    437\u001b[0m         \u001b[0mp\u001b[0m \u001b[0;34m=\u001b[0m \u001b[0mrinterface\u001b[0m\u001b[0;34m.\u001b[0m\u001b[0mparse\u001b[0m\u001b[0;34m(\u001b[0m\u001b[0mstring\u001b[0m\u001b[0;34m)\u001b[0m\u001b[0;34m\u001b[0m\u001b[0;34m\u001b[0m\u001b[0m\n\u001b[0;32m--> 438\u001b[0;31m         \u001b[0mres\u001b[0m \u001b[0;34m=\u001b[0m \u001b[0mself\u001b[0m\u001b[0;34m.\u001b[0m\u001b[0meval\u001b[0m\u001b[0;34m(\u001b[0m\u001b[0mp\u001b[0m\u001b[0;34m)\u001b[0m\u001b[0;34m\u001b[0m\u001b[0;34m\u001b[0m\u001b[0m\n\u001b[0m\u001b[1;32m    439\u001b[0m         \u001b[0;32mreturn\u001b[0m \u001b[0mconversion\u001b[0m\u001b[0;34m.\u001b[0m\u001b[0mrpy2py\u001b[0m\u001b[0;34m(\u001b[0m\u001b[0mres\u001b[0m\u001b[0;34m)\u001b[0m\u001b[0;34m\u001b[0m\u001b[0;34m\u001b[0m\u001b[0m\n",
            "\u001b[0;32m/usr/local/lib/python3.7/dist-packages/rpy2/robjects/functions.py\u001b[0m in \u001b[0;36m__call__\u001b[0;34m(self, *args, **kwargs)\u001b[0m\n\u001b[1;32m    198\u001b[0m         return (super(SignatureTranslatedFunction, self)\n\u001b[0;32m--> 199\u001b[0;31m                 .__call__(*args, **kwargs))\n\u001b[0m\u001b[1;32m    200\u001b[0m \u001b[0;34m\u001b[0m\u001b[0m\n",
            "\u001b[0;32m/usr/local/lib/python3.7/dist-packages/rpy2/robjects/functions.py\u001b[0m in \u001b[0;36m__call__\u001b[0;34m(self, *args, **kwargs)\u001b[0m\n\u001b[1;32m    124\u001b[0m                 \u001b[0mnew_kwargs\u001b[0m\u001b[0;34m[\u001b[0m\u001b[0mk\u001b[0m\u001b[0;34m]\u001b[0m \u001b[0;34m=\u001b[0m \u001b[0mconversion\u001b[0m\u001b[0;34m.\u001b[0m\u001b[0mpy2rpy\u001b[0m\u001b[0;34m(\u001b[0m\u001b[0mv\u001b[0m\u001b[0;34m)\u001b[0m\u001b[0;34m\u001b[0m\u001b[0;34m\u001b[0m\u001b[0m\n\u001b[0;32m--> 125\u001b[0;31m         \u001b[0mres\u001b[0m \u001b[0;34m=\u001b[0m \u001b[0msuper\u001b[0m\u001b[0;34m(\u001b[0m\u001b[0mFunction\u001b[0m\u001b[0;34m,\u001b[0m \u001b[0mself\u001b[0m\u001b[0;34m)\u001b[0m\u001b[0;34m.\u001b[0m\u001b[0m__call__\u001b[0m\u001b[0;34m(\u001b[0m\u001b[0;34m*\u001b[0m\u001b[0mnew_args\u001b[0m\u001b[0;34m,\u001b[0m \u001b[0;34m**\u001b[0m\u001b[0mnew_kwargs\u001b[0m\u001b[0;34m)\u001b[0m\u001b[0;34m\u001b[0m\u001b[0;34m\u001b[0m\u001b[0m\n\u001b[0m\u001b[1;32m    126\u001b[0m         \u001b[0mres\u001b[0m \u001b[0;34m=\u001b[0m \u001b[0mconversion\u001b[0m\u001b[0;34m.\u001b[0m\u001b[0mrpy2py\u001b[0m\u001b[0;34m(\u001b[0m\u001b[0mres\u001b[0m\u001b[0;34m)\u001b[0m\u001b[0;34m\u001b[0m\u001b[0;34m\u001b[0m\u001b[0m\n",
            "\u001b[0;32m/usr/local/lib/python3.7/dist-packages/rpy2/rinterface_lib/conversion.py\u001b[0m in \u001b[0;36m_\u001b[0;34m(*args, **kwargs)\u001b[0m\n\u001b[1;32m     44\u001b[0m     \u001b[0;32mdef\u001b[0m \u001b[0m_\u001b[0m\u001b[0;34m(\u001b[0m\u001b[0;34m*\u001b[0m\u001b[0margs\u001b[0m\u001b[0;34m,\u001b[0m \u001b[0;34m**\u001b[0m\u001b[0mkwargs\u001b[0m\u001b[0;34m)\u001b[0m\u001b[0;34m:\u001b[0m\u001b[0;34m\u001b[0m\u001b[0;34m\u001b[0m\u001b[0m\n\u001b[0;32m---> 45\u001b[0;31m         \u001b[0mcdata\u001b[0m \u001b[0;34m=\u001b[0m \u001b[0mfunction\u001b[0m\u001b[0;34m(\u001b[0m\u001b[0;34m*\u001b[0m\u001b[0margs\u001b[0m\u001b[0;34m,\u001b[0m \u001b[0;34m**\u001b[0m\u001b[0mkwargs\u001b[0m\u001b[0;34m)\u001b[0m\u001b[0;34m\u001b[0m\u001b[0;34m\u001b[0m\u001b[0m\n\u001b[0m\u001b[1;32m     46\u001b[0m         \u001b[0;31m# TODO: test cdata is of the expected CType\u001b[0m\u001b[0;34m\u001b[0m\u001b[0;34m\u001b[0m\u001b[0;34m\u001b[0m\u001b[0m\n",
            "\u001b[0;32m/usr/local/lib/python3.7/dist-packages/rpy2/rinterface.py\u001b[0m in \u001b[0;36m__call__\u001b[0;34m(self, *args, **kwargs)\u001b[0m\n\u001b[1;32m    679\u001b[0m             \u001b[0;32mif\u001b[0m \u001b[0merror_occured\u001b[0m\u001b[0;34m[\u001b[0m\u001b[0;36m0\u001b[0m\u001b[0;34m]\u001b[0m\u001b[0;34m:\u001b[0m\u001b[0;34m\u001b[0m\u001b[0;34m\u001b[0m\u001b[0m\n\u001b[0;32m--> 680\u001b[0;31m                 \u001b[0;32mraise\u001b[0m \u001b[0membedded\u001b[0m\u001b[0;34m.\u001b[0m\u001b[0mRRuntimeError\u001b[0m\u001b[0;34m(\u001b[0m\u001b[0m_rinterface\u001b[0m\u001b[0;34m.\u001b[0m\u001b[0m_geterrmessage\u001b[0m\u001b[0;34m(\u001b[0m\u001b[0;34m)\u001b[0m\u001b[0;34m)\u001b[0m\u001b[0;34m\u001b[0m\u001b[0;34m\u001b[0m\u001b[0m\n\u001b[0m\u001b[1;32m    681\u001b[0m         \u001b[0;32mreturn\u001b[0m \u001b[0mres\u001b[0m\u001b[0;34m\u001b[0m\u001b[0;34m\u001b[0m\u001b[0m\n",
            "\u001b[0;31mRRuntimeError\u001b[0m: Error in -c(num_cols) : invalid argument to unary operator\n",
            "\nDuring handling of the above exception, another exception occurred:\n",
            "\u001b[0;31mRInterpreterError\u001b[0m                         Traceback (most recent call last)",
            "\u001b[0;32m<ipython-input-53-169329aaf14a>\u001b[0m in \u001b[0;36m<module>\u001b[0;34m()\u001b[0m\n\u001b[0;32m----> 1\u001b[0;31m \u001b[0mget_ipython\u001b[0m\u001b[0;34m(\u001b[0m\u001b[0;34m)\u001b[0m\u001b[0;34m.\u001b[0m\u001b[0mrun_cell_magic\u001b[0m\u001b[0;34m(\u001b[0m\u001b[0;34m'R'\u001b[0m\u001b[0;34m,\u001b[0m \u001b[0;34m''\u001b[0m\u001b[0;34m,\u001b[0m \u001b[0;34m\"#\\xa0let's store numerical and categorical columns in variable\\nnum_cols <- select_if(loan, is.numeric)\\ncat_cols <- -c(num_cols)\"\u001b[0m\u001b[0;34m)\u001b[0m\u001b[0;34m\u001b[0m\u001b[0;34m\u001b[0m\u001b[0m\n\u001b[0m",
            "\u001b[0;32m/usr/local/lib/python3.7/dist-packages/IPython/core/interactiveshell.py\u001b[0m in \u001b[0;36mrun_cell_magic\u001b[0;34m(self, magic_name, line, cell)\u001b[0m\n\u001b[1;32m   2115\u001b[0m             \u001b[0mmagic_arg_s\u001b[0m \u001b[0;34m=\u001b[0m \u001b[0mself\u001b[0m\u001b[0;34m.\u001b[0m\u001b[0mvar_expand\u001b[0m\u001b[0;34m(\u001b[0m\u001b[0mline\u001b[0m\u001b[0;34m,\u001b[0m \u001b[0mstack_depth\u001b[0m\u001b[0;34m)\u001b[0m\u001b[0;34m\u001b[0m\u001b[0;34m\u001b[0m\u001b[0m\n\u001b[1;32m   2116\u001b[0m             \u001b[0;32mwith\u001b[0m \u001b[0mself\u001b[0m\u001b[0;34m.\u001b[0m\u001b[0mbuiltin_trap\u001b[0m\u001b[0;34m:\u001b[0m\u001b[0;34m\u001b[0m\u001b[0;34m\u001b[0m\u001b[0m\n\u001b[0;32m-> 2117\u001b[0;31m                 \u001b[0mresult\u001b[0m \u001b[0;34m=\u001b[0m \u001b[0mfn\u001b[0m\u001b[0;34m(\u001b[0m\u001b[0mmagic_arg_s\u001b[0m\u001b[0;34m,\u001b[0m \u001b[0mcell\u001b[0m\u001b[0;34m)\u001b[0m\u001b[0;34m\u001b[0m\u001b[0;34m\u001b[0m\u001b[0m\n\u001b[0m\u001b[1;32m   2118\u001b[0m             \u001b[0;32mreturn\u001b[0m \u001b[0mresult\u001b[0m\u001b[0;34m\u001b[0m\u001b[0;34m\u001b[0m\u001b[0m\n\u001b[1;32m   2119\u001b[0m \u001b[0;34m\u001b[0m\u001b[0m\n",
            "\u001b[0;32m<decorator-gen-119>\u001b[0m in \u001b[0;36mR\u001b[0;34m(self, line, cell, local_ns)\u001b[0m\n",
            "\u001b[0;32m/usr/local/lib/python3.7/dist-packages/IPython/core/magic.py\u001b[0m in \u001b[0;36m<lambda>\u001b[0;34m(f, *a, **k)\u001b[0m\n\u001b[1;32m    186\u001b[0m     \u001b[0;31m# but it's overkill for just that one bit of state.\u001b[0m\u001b[0;34m\u001b[0m\u001b[0;34m\u001b[0m\u001b[0;34m\u001b[0m\u001b[0m\n\u001b[1;32m    187\u001b[0m     \u001b[0;32mdef\u001b[0m \u001b[0mmagic_deco\u001b[0m\u001b[0;34m(\u001b[0m\u001b[0marg\u001b[0m\u001b[0;34m)\u001b[0m\u001b[0;34m:\u001b[0m\u001b[0;34m\u001b[0m\u001b[0;34m\u001b[0m\u001b[0m\n\u001b[0;32m--> 188\u001b[0;31m         \u001b[0mcall\u001b[0m \u001b[0;34m=\u001b[0m \u001b[0;32mlambda\u001b[0m \u001b[0mf\u001b[0m\u001b[0;34m,\u001b[0m \u001b[0;34m*\u001b[0m\u001b[0ma\u001b[0m\u001b[0;34m,\u001b[0m \u001b[0;34m**\u001b[0m\u001b[0mk\u001b[0m\u001b[0;34m:\u001b[0m \u001b[0mf\u001b[0m\u001b[0;34m(\u001b[0m\u001b[0;34m*\u001b[0m\u001b[0ma\u001b[0m\u001b[0;34m,\u001b[0m \u001b[0;34m**\u001b[0m\u001b[0mk\u001b[0m\u001b[0;34m)\u001b[0m\u001b[0;34m\u001b[0m\u001b[0;34m\u001b[0m\u001b[0m\n\u001b[0m\u001b[1;32m    189\u001b[0m \u001b[0;34m\u001b[0m\u001b[0m\n\u001b[1;32m    190\u001b[0m         \u001b[0;32mif\u001b[0m \u001b[0mcallable\u001b[0m\u001b[0;34m(\u001b[0m\u001b[0marg\u001b[0m\u001b[0;34m)\u001b[0m\u001b[0;34m:\u001b[0m\u001b[0;34m\u001b[0m\u001b[0;34m\u001b[0m\u001b[0m\n",
            "\u001b[0;32m/usr/local/lib/python3.7/dist-packages/rpy2/ipython/rmagic.py\u001b[0m in \u001b[0;36mR\u001b[0;34m(self, line, cell, local_ns)\u001b[0m\n\u001b[1;32m    781\u001b[0m             \u001b[0;32mif\u001b[0m \u001b[0;32mnot\u001b[0m \u001b[0me\u001b[0m\u001b[0;34m.\u001b[0m\u001b[0mstdout\u001b[0m\u001b[0;34m.\u001b[0m\u001b[0mendswith\u001b[0m\u001b[0;34m(\u001b[0m\u001b[0me\u001b[0m\u001b[0;34m.\u001b[0m\u001b[0merr\u001b[0m\u001b[0;34m)\u001b[0m\u001b[0;34m:\u001b[0m\u001b[0;34m\u001b[0m\u001b[0;34m\u001b[0m\u001b[0m\n\u001b[1;32m    782\u001b[0m                 \u001b[0mprint\u001b[0m\u001b[0;34m(\u001b[0m\u001b[0me\u001b[0m\u001b[0;34m.\u001b[0m\u001b[0merr\u001b[0m\u001b[0;34m)\u001b[0m\u001b[0;34m\u001b[0m\u001b[0;34m\u001b[0m\u001b[0m\n\u001b[0;32m--> 783\u001b[0;31m             \u001b[0;32mraise\u001b[0m \u001b[0me\u001b[0m\u001b[0;34m\u001b[0m\u001b[0;34m\u001b[0m\u001b[0m\n\u001b[0m\u001b[1;32m    784\u001b[0m         \u001b[0;32mfinally\u001b[0m\u001b[0;34m:\u001b[0m\u001b[0;34m\u001b[0m\u001b[0;34m\u001b[0m\u001b[0m\n\u001b[1;32m    785\u001b[0m             \u001b[0;32mif\u001b[0m \u001b[0mself\u001b[0m\u001b[0;34m.\u001b[0m\u001b[0mdevice\u001b[0m \u001b[0;32min\u001b[0m \u001b[0;34m[\u001b[0m\u001b[0;34m'png'\u001b[0m\u001b[0;34m,\u001b[0m \u001b[0;34m'svg'\u001b[0m\u001b[0;34m]\u001b[0m\u001b[0;34m:\u001b[0m\u001b[0;34m\u001b[0m\u001b[0;34m\u001b[0m\u001b[0m\n",
            "\u001b[0;32m/usr/local/lib/python3.7/dist-packages/rpy2/ipython/rmagic.py\u001b[0m in \u001b[0;36mR\u001b[0;34m(self, line, cell, local_ns)\u001b[0m\n\u001b[1;32m    761\u001b[0m                     \u001b[0mreturn_output\u001b[0m \u001b[0;34m=\u001b[0m \u001b[0;32mFalse\u001b[0m\u001b[0;34m\u001b[0m\u001b[0;34m\u001b[0m\u001b[0m\n\u001b[1;32m    762\u001b[0m             \u001b[0;32melse\u001b[0m\u001b[0;34m:\u001b[0m\u001b[0;34m\u001b[0m\u001b[0;34m\u001b[0m\u001b[0m\n\u001b[0;32m--> 763\u001b[0;31m                 \u001b[0mtext_result\u001b[0m\u001b[0;34m,\u001b[0m \u001b[0mresult\u001b[0m\u001b[0;34m,\u001b[0m \u001b[0mvisible\u001b[0m \u001b[0;34m=\u001b[0m \u001b[0mself\u001b[0m\u001b[0;34m.\u001b[0m\u001b[0meval\u001b[0m\u001b[0;34m(\u001b[0m\u001b[0mcode\u001b[0m\u001b[0;34m)\u001b[0m\u001b[0;34m\u001b[0m\u001b[0;34m\u001b[0m\u001b[0m\n\u001b[0m\u001b[1;32m    764\u001b[0m                 \u001b[0mtext_output\u001b[0m \u001b[0;34m+=\u001b[0m \u001b[0mtext_result\u001b[0m\u001b[0;34m\u001b[0m\u001b[0;34m\u001b[0m\u001b[0m\n\u001b[1;32m    765\u001b[0m                 \u001b[0;32mif\u001b[0m \u001b[0mvisible\u001b[0m\u001b[0;34m:\u001b[0m\u001b[0;34m\u001b[0m\u001b[0;34m\u001b[0m\u001b[0m\n",
            "\u001b[0;32m/usr/local/lib/python3.7/dist-packages/rpy2/ipython/rmagic.py\u001b[0m in \u001b[0;36meval\u001b[0;34m(self, code)\u001b[0m\n\u001b[1;32m    271\u001b[0m                 \u001b[0mwarning_or_other_msg\u001b[0m \u001b[0;34m=\u001b[0m \u001b[0mself\u001b[0m\u001b[0;34m.\u001b[0m\u001b[0mflush\u001b[0m\u001b[0;34m(\u001b[0m\u001b[0;34m)\u001b[0m\u001b[0;34m\u001b[0m\u001b[0;34m\u001b[0m\u001b[0m\n\u001b[1;32m    272\u001b[0m                 raise RInterpreterError(code, str(exception),\n\u001b[0;32m--> 273\u001b[0;31m                                         warning_or_other_msg)\n\u001b[0m\u001b[1;32m    274\u001b[0m             \u001b[0mtext_output\u001b[0m \u001b[0;34m=\u001b[0m \u001b[0mself\u001b[0m\u001b[0;34m.\u001b[0m\u001b[0mflush\u001b[0m\u001b[0;34m(\u001b[0m\u001b[0;34m)\u001b[0m\u001b[0;34m\u001b[0m\u001b[0;34m\u001b[0m\u001b[0m\n\u001b[1;32m    275\u001b[0m             \u001b[0;32mreturn\u001b[0m \u001b[0mtext_output\u001b[0m\u001b[0;34m,\u001b[0m \u001b[0mvalue\u001b[0m\u001b[0;34m,\u001b[0m \u001b[0mvisible\u001b[0m\u001b[0;34m[\u001b[0m\u001b[0;36m0\u001b[0m\u001b[0;34m]\u001b[0m\u001b[0;34m\u001b[0m\u001b[0;34m\u001b[0m\u001b[0m\n",
            "\u001b[0;31mRInterpreterError\u001b[0m: Failed to parse and evaluate line \"#\\xa0let's store numerical and categorical columns in variable\\nnum_cols <- select_if(loan, is.numeric)\\ncat_cols <- -c(num_cols)\".\nR error message: 'Error in -c(num_cols) : invalid argument to unary operator'"
          ]
        }
      ]
    },
    {
      "cell_type": "code",
      "source": [
        "%%R\n",
        "Impute_data <- Amelia(loan, m = 10, maxit = 10, norms = )"
      ],
      "metadata": {
        "id": "SFPLHyiQk6Cn"
      },
      "execution_count": null,
      "outputs": []
    }
  ]
}